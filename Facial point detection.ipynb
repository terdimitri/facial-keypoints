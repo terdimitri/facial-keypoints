{
 "cells": [
  {
   "cell_type": "code",
   "execution_count": 1,
   "id": "f73a35e3",
   "metadata": {},
   "outputs": [],
   "source": [
    "import pandas as pd\n",
    "import numpy as np\n",
    "import torch\n",
    "import sklearn.model_selection\n",
    "import matplotlib.pyplot as plt"
   ]
  },
  {
   "cell_type": "markdown",
   "id": "7720b17e",
   "metadata": {},
   "source": [
    "## Load the file"
   ]
  },
  {
   "cell_type": "code",
   "execution_count": 2,
   "id": "a4d24b27",
   "metadata": {},
   "outputs": [],
   "source": [
    "all_data = pd.read_csv('training.csv')"
   ]
  },
  {
   "cell_type": "code",
   "execution_count": 3,
   "id": "893eb24f",
   "metadata": {
    "scrolled": true
   },
   "outputs": [
    {
     "data": {
      "text/html": [
       "<div>\n",
       "<style scoped>\n",
       "    .dataframe tbody tr th:only-of-type {\n",
       "        vertical-align: middle;\n",
       "    }\n",
       "\n",
       "    .dataframe tbody tr th {\n",
       "        vertical-align: top;\n",
       "    }\n",
       "\n",
       "    .dataframe thead th {\n",
       "        text-align: right;\n",
       "    }\n",
       "</style>\n",
       "<table border=\"1\" class=\"dataframe\">\n",
       "  <thead>\n",
       "    <tr style=\"text-align: right;\">\n",
       "      <th></th>\n",
       "      <th>left_eye_center_x</th>\n",
       "      <th>left_eye_center_y</th>\n",
       "      <th>right_eye_center_x</th>\n",
       "      <th>right_eye_center_y</th>\n",
       "      <th>left_eye_inner_corner_x</th>\n",
       "      <th>left_eye_inner_corner_y</th>\n",
       "      <th>left_eye_outer_corner_x</th>\n",
       "      <th>left_eye_outer_corner_y</th>\n",
       "      <th>right_eye_inner_corner_x</th>\n",
       "      <th>right_eye_inner_corner_y</th>\n",
       "      <th>...</th>\n",
       "      <th>nose_tip_y</th>\n",
       "      <th>mouth_left_corner_x</th>\n",
       "      <th>mouth_left_corner_y</th>\n",
       "      <th>mouth_right_corner_x</th>\n",
       "      <th>mouth_right_corner_y</th>\n",
       "      <th>mouth_center_top_lip_x</th>\n",
       "      <th>mouth_center_top_lip_y</th>\n",
       "      <th>mouth_center_bottom_lip_x</th>\n",
       "      <th>mouth_center_bottom_lip_y</th>\n",
       "      <th>Image</th>\n",
       "    </tr>\n",
       "  </thead>\n",
       "  <tbody>\n",
       "    <tr>\n",
       "      <th>0</th>\n",
       "      <td>66.033564</td>\n",
       "      <td>39.002274</td>\n",
       "      <td>30.227008</td>\n",
       "      <td>36.421678</td>\n",
       "      <td>59.582075</td>\n",
       "      <td>39.647423</td>\n",
       "      <td>73.130346</td>\n",
       "      <td>39.969997</td>\n",
       "      <td>36.356571</td>\n",
       "      <td>37.389402</td>\n",
       "      <td>...</td>\n",
       "      <td>57.066803</td>\n",
       "      <td>61.195308</td>\n",
       "      <td>79.970165</td>\n",
       "      <td>28.614496</td>\n",
       "      <td>77.388992</td>\n",
       "      <td>43.312602</td>\n",
       "      <td>72.935459</td>\n",
       "      <td>43.130707</td>\n",
       "      <td>84.485774</td>\n",
       "      <td>238 236 237 238 240 240 239 241 241 243 240 23...</td>\n",
       "    </tr>\n",
       "    <tr>\n",
       "      <th>1</th>\n",
       "      <td>64.332936</td>\n",
       "      <td>34.970077</td>\n",
       "      <td>29.949277</td>\n",
       "      <td>33.448715</td>\n",
       "      <td>58.856170</td>\n",
       "      <td>35.274349</td>\n",
       "      <td>70.722723</td>\n",
       "      <td>36.187166</td>\n",
       "      <td>36.034723</td>\n",
       "      <td>34.361532</td>\n",
       "      <td>...</td>\n",
       "      <td>55.660936</td>\n",
       "      <td>56.421447</td>\n",
       "      <td>76.352000</td>\n",
       "      <td>35.122383</td>\n",
       "      <td>76.047660</td>\n",
       "      <td>46.684596</td>\n",
       "      <td>70.266553</td>\n",
       "      <td>45.467915</td>\n",
       "      <td>85.480170</td>\n",
       "      <td>219 215 204 196 204 211 212 200 180 168 178 19...</td>\n",
       "    </tr>\n",
       "    <tr>\n",
       "      <th>2</th>\n",
       "      <td>65.057053</td>\n",
       "      <td>34.909642</td>\n",
       "      <td>30.903789</td>\n",
       "      <td>34.909642</td>\n",
       "      <td>59.412000</td>\n",
       "      <td>36.320968</td>\n",
       "      <td>70.984421</td>\n",
       "      <td>36.320968</td>\n",
       "      <td>37.678105</td>\n",
       "      <td>36.320968</td>\n",
       "      <td>...</td>\n",
       "      <td>53.538947</td>\n",
       "      <td>60.822947</td>\n",
       "      <td>73.014316</td>\n",
       "      <td>33.726316</td>\n",
       "      <td>72.732000</td>\n",
       "      <td>47.274947</td>\n",
       "      <td>70.191789</td>\n",
       "      <td>47.274947</td>\n",
       "      <td>78.659368</td>\n",
       "      <td>144 142 159 180 188 188 184 180 167 132 84 59 ...</td>\n",
       "    </tr>\n",
       "    <tr>\n",
       "      <th>3</th>\n",
       "      <td>65.225739</td>\n",
       "      <td>37.261774</td>\n",
       "      <td>32.023096</td>\n",
       "      <td>37.261774</td>\n",
       "      <td>60.003339</td>\n",
       "      <td>39.127179</td>\n",
       "      <td>72.314713</td>\n",
       "      <td>38.380967</td>\n",
       "      <td>37.618643</td>\n",
       "      <td>38.754115</td>\n",
       "      <td>...</td>\n",
       "      <td>54.166539</td>\n",
       "      <td>65.598887</td>\n",
       "      <td>72.703722</td>\n",
       "      <td>37.245496</td>\n",
       "      <td>74.195478</td>\n",
       "      <td>50.303165</td>\n",
       "      <td>70.091687</td>\n",
       "      <td>51.561183</td>\n",
       "      <td>78.268383</td>\n",
       "      <td>193 192 193 194 194 194 193 192 168 111 50 12 ...</td>\n",
       "    </tr>\n",
       "    <tr>\n",
       "      <th>4</th>\n",
       "      <td>66.725301</td>\n",
       "      <td>39.621261</td>\n",
       "      <td>32.244810</td>\n",
       "      <td>38.042032</td>\n",
       "      <td>58.565890</td>\n",
       "      <td>39.621261</td>\n",
       "      <td>72.515926</td>\n",
       "      <td>39.884466</td>\n",
       "      <td>36.982380</td>\n",
       "      <td>39.094852</td>\n",
       "      <td>...</td>\n",
       "      <td>64.889521</td>\n",
       "      <td>60.671411</td>\n",
       "      <td>77.523239</td>\n",
       "      <td>31.191755</td>\n",
       "      <td>76.997301</td>\n",
       "      <td>44.962748</td>\n",
       "      <td>73.707387</td>\n",
       "      <td>44.227141</td>\n",
       "      <td>86.871166</td>\n",
       "      <td>147 148 160 196 215 214 216 217 219 220 206 18...</td>\n",
       "    </tr>\n",
       "    <tr>\n",
       "      <th>...</th>\n",
       "      <td>...</td>\n",
       "      <td>...</td>\n",
       "      <td>...</td>\n",
       "      <td>...</td>\n",
       "      <td>...</td>\n",
       "      <td>...</td>\n",
       "      <td>...</td>\n",
       "      <td>...</td>\n",
       "      <td>...</td>\n",
       "      <td>...</td>\n",
       "      <td>...</td>\n",
       "      <td>...</td>\n",
       "      <td>...</td>\n",
       "      <td>...</td>\n",
       "      <td>...</td>\n",
       "      <td>...</td>\n",
       "      <td>...</td>\n",
       "      <td>...</td>\n",
       "      <td>...</td>\n",
       "      <td>...</td>\n",
       "      <td>...</td>\n",
       "    </tr>\n",
       "    <tr>\n",
       "      <th>7044</th>\n",
       "      <td>67.402546</td>\n",
       "      <td>31.842551</td>\n",
       "      <td>29.746749</td>\n",
       "      <td>38.632942</td>\n",
       "      <td>NaN</td>\n",
       "      <td>NaN</td>\n",
       "      <td>NaN</td>\n",
       "      <td>NaN</td>\n",
       "      <td>NaN</td>\n",
       "      <td>NaN</td>\n",
       "      <td>...</td>\n",
       "      <td>67.029093</td>\n",
       "      <td>NaN</td>\n",
       "      <td>NaN</td>\n",
       "      <td>NaN</td>\n",
       "      <td>NaN</td>\n",
       "      <td>NaN</td>\n",
       "      <td>NaN</td>\n",
       "      <td>50.426637</td>\n",
       "      <td>79.683921</td>\n",
       "      <td>71 74 85 105 116 128 139 150 170 187 201 209 2...</td>\n",
       "    </tr>\n",
       "    <tr>\n",
       "      <th>7045</th>\n",
       "      <td>66.134400</td>\n",
       "      <td>38.365501</td>\n",
       "      <td>30.478626</td>\n",
       "      <td>39.950198</td>\n",
       "      <td>NaN</td>\n",
       "      <td>NaN</td>\n",
       "      <td>NaN</td>\n",
       "      <td>NaN</td>\n",
       "      <td>NaN</td>\n",
       "      <td>NaN</td>\n",
       "      <td>...</td>\n",
       "      <td>66.626011</td>\n",
       "      <td>NaN</td>\n",
       "      <td>NaN</td>\n",
       "      <td>NaN</td>\n",
       "      <td>NaN</td>\n",
       "      <td>NaN</td>\n",
       "      <td>NaN</td>\n",
       "      <td>50.287397</td>\n",
       "      <td>77.983023</td>\n",
       "      <td>60 60 62 57 55 51 49 48 50 53 56 56 106 89 77 ...</td>\n",
       "    </tr>\n",
       "    <tr>\n",
       "      <th>7046</th>\n",
       "      <td>66.690732</td>\n",
       "      <td>36.845221</td>\n",
       "      <td>31.666420</td>\n",
       "      <td>39.685042</td>\n",
       "      <td>NaN</td>\n",
       "      <td>NaN</td>\n",
       "      <td>NaN</td>\n",
       "      <td>NaN</td>\n",
       "      <td>NaN</td>\n",
       "      <td>NaN</td>\n",
       "      <td>...</td>\n",
       "      <td>67.515161</td>\n",
       "      <td>NaN</td>\n",
       "      <td>NaN</td>\n",
       "      <td>NaN</td>\n",
       "      <td>NaN</td>\n",
       "      <td>NaN</td>\n",
       "      <td>NaN</td>\n",
       "      <td>49.462572</td>\n",
       "      <td>78.117120</td>\n",
       "      <td>74 74 74 78 79 79 79 81 77 78 80 73 72 81 77 1...</td>\n",
       "    </tr>\n",
       "    <tr>\n",
       "      <th>7047</th>\n",
       "      <td>70.965082</td>\n",
       "      <td>39.853666</td>\n",
       "      <td>30.543285</td>\n",
       "      <td>40.772339</td>\n",
       "      <td>NaN</td>\n",
       "      <td>NaN</td>\n",
       "      <td>NaN</td>\n",
       "      <td>NaN</td>\n",
       "      <td>NaN</td>\n",
       "      <td>NaN</td>\n",
       "      <td>...</td>\n",
       "      <td>66.724988</td>\n",
       "      <td>NaN</td>\n",
       "      <td>NaN</td>\n",
       "      <td>NaN</td>\n",
       "      <td>NaN</td>\n",
       "      <td>NaN</td>\n",
       "      <td>NaN</td>\n",
       "      <td>50.065186</td>\n",
       "      <td>79.586447</td>\n",
       "      <td>254 254 254 254 254 238 193 145 121 118 119 10...</td>\n",
       "    </tr>\n",
       "    <tr>\n",
       "      <th>7048</th>\n",
       "      <td>66.938311</td>\n",
       "      <td>43.424510</td>\n",
       "      <td>31.096059</td>\n",
       "      <td>39.528604</td>\n",
       "      <td>NaN</td>\n",
       "      <td>NaN</td>\n",
       "      <td>NaN</td>\n",
       "      <td>NaN</td>\n",
       "      <td>NaN</td>\n",
       "      <td>NaN</td>\n",
       "      <td>...</td>\n",
       "      <td>73.033339</td>\n",
       "      <td>NaN</td>\n",
       "      <td>NaN</td>\n",
       "      <td>NaN</td>\n",
       "      <td>NaN</td>\n",
       "      <td>NaN</td>\n",
       "      <td>NaN</td>\n",
       "      <td>45.900480</td>\n",
       "      <td>82.773096</td>\n",
       "      <td>53 62 67 76 86 91 97 105 105 106 107 108 112 1...</td>\n",
       "    </tr>\n",
       "  </tbody>\n",
       "</table>\n",
       "<p>7049 rows × 31 columns</p>\n",
       "</div>"
      ],
      "text/plain": [
       "      left_eye_center_x  left_eye_center_y  right_eye_center_x  \\\n",
       "0             66.033564          39.002274           30.227008   \n",
       "1             64.332936          34.970077           29.949277   \n",
       "2             65.057053          34.909642           30.903789   \n",
       "3             65.225739          37.261774           32.023096   \n",
       "4             66.725301          39.621261           32.244810   \n",
       "...                 ...                ...                 ...   \n",
       "7044          67.402546          31.842551           29.746749   \n",
       "7045          66.134400          38.365501           30.478626   \n",
       "7046          66.690732          36.845221           31.666420   \n",
       "7047          70.965082          39.853666           30.543285   \n",
       "7048          66.938311          43.424510           31.096059   \n",
       "\n",
       "      right_eye_center_y  left_eye_inner_corner_x  left_eye_inner_corner_y  \\\n",
       "0              36.421678                59.582075                39.647423   \n",
       "1              33.448715                58.856170                35.274349   \n",
       "2              34.909642                59.412000                36.320968   \n",
       "3              37.261774                60.003339                39.127179   \n",
       "4              38.042032                58.565890                39.621261   \n",
       "...                  ...                      ...                      ...   \n",
       "7044           38.632942                      NaN                      NaN   \n",
       "7045           39.950198                      NaN                      NaN   \n",
       "7046           39.685042                      NaN                      NaN   \n",
       "7047           40.772339                      NaN                      NaN   \n",
       "7048           39.528604                      NaN                      NaN   \n",
       "\n",
       "      left_eye_outer_corner_x  left_eye_outer_corner_y  \\\n",
       "0                   73.130346                39.969997   \n",
       "1                   70.722723                36.187166   \n",
       "2                   70.984421                36.320968   \n",
       "3                   72.314713                38.380967   \n",
       "4                   72.515926                39.884466   \n",
       "...                       ...                      ...   \n",
       "7044                      NaN                      NaN   \n",
       "7045                      NaN                      NaN   \n",
       "7046                      NaN                      NaN   \n",
       "7047                      NaN                      NaN   \n",
       "7048                      NaN                      NaN   \n",
       "\n",
       "      right_eye_inner_corner_x  right_eye_inner_corner_y  ...  nose_tip_y  \\\n",
       "0                    36.356571                 37.389402  ...   57.066803   \n",
       "1                    36.034723                 34.361532  ...   55.660936   \n",
       "2                    37.678105                 36.320968  ...   53.538947   \n",
       "3                    37.618643                 38.754115  ...   54.166539   \n",
       "4                    36.982380                 39.094852  ...   64.889521   \n",
       "...                        ...                       ...  ...         ...   \n",
       "7044                       NaN                       NaN  ...   67.029093   \n",
       "7045                       NaN                       NaN  ...   66.626011   \n",
       "7046                       NaN                       NaN  ...   67.515161   \n",
       "7047                       NaN                       NaN  ...   66.724988   \n",
       "7048                       NaN                       NaN  ...   73.033339   \n",
       "\n",
       "      mouth_left_corner_x  mouth_left_corner_y  mouth_right_corner_x  \\\n",
       "0               61.195308            79.970165             28.614496   \n",
       "1               56.421447            76.352000             35.122383   \n",
       "2               60.822947            73.014316             33.726316   \n",
       "3               65.598887            72.703722             37.245496   \n",
       "4               60.671411            77.523239             31.191755   \n",
       "...                   ...                  ...                   ...   \n",
       "7044                  NaN                  NaN                   NaN   \n",
       "7045                  NaN                  NaN                   NaN   \n",
       "7046                  NaN                  NaN                   NaN   \n",
       "7047                  NaN                  NaN                   NaN   \n",
       "7048                  NaN                  NaN                   NaN   \n",
       "\n",
       "      mouth_right_corner_y  mouth_center_top_lip_x  mouth_center_top_lip_y  \\\n",
       "0                77.388992               43.312602               72.935459   \n",
       "1                76.047660               46.684596               70.266553   \n",
       "2                72.732000               47.274947               70.191789   \n",
       "3                74.195478               50.303165               70.091687   \n",
       "4                76.997301               44.962748               73.707387   \n",
       "...                    ...                     ...                     ...   \n",
       "7044                   NaN                     NaN                     NaN   \n",
       "7045                   NaN                     NaN                     NaN   \n",
       "7046                   NaN                     NaN                     NaN   \n",
       "7047                   NaN                     NaN                     NaN   \n",
       "7048                   NaN                     NaN                     NaN   \n",
       "\n",
       "      mouth_center_bottom_lip_x  mouth_center_bottom_lip_y  \\\n",
       "0                     43.130707                  84.485774   \n",
       "1                     45.467915                  85.480170   \n",
       "2                     47.274947                  78.659368   \n",
       "3                     51.561183                  78.268383   \n",
       "4                     44.227141                  86.871166   \n",
       "...                         ...                        ...   \n",
       "7044                  50.426637                  79.683921   \n",
       "7045                  50.287397                  77.983023   \n",
       "7046                  49.462572                  78.117120   \n",
       "7047                  50.065186                  79.586447   \n",
       "7048                  45.900480                  82.773096   \n",
       "\n",
       "                                                  Image  \n",
       "0     238 236 237 238 240 240 239 241 241 243 240 23...  \n",
       "1     219 215 204 196 204 211 212 200 180 168 178 19...  \n",
       "2     144 142 159 180 188 188 184 180 167 132 84 59 ...  \n",
       "3     193 192 193 194 194 194 193 192 168 111 50 12 ...  \n",
       "4     147 148 160 196 215 214 216 217 219 220 206 18...  \n",
       "...                                                 ...  \n",
       "7044  71 74 85 105 116 128 139 150 170 187 201 209 2...  \n",
       "7045  60 60 62 57 55 51 49 48 50 53 56 56 106 89 77 ...  \n",
       "7046  74 74 74 78 79 79 79 81 77 78 80 73 72 81 77 1...  \n",
       "7047  254 254 254 254 254 238 193 145 121 118 119 10...  \n",
       "7048  53 62 67 76 86 91 97 105 105 106 107 108 112 1...  \n",
       "\n",
       "[7049 rows x 31 columns]"
      ]
     },
     "execution_count": 3,
     "metadata": {},
     "output_type": "execute_result"
    }
   ],
   "source": [
    "all_data"
   ]
  },
  {
   "cell_type": "code",
   "execution_count": 34,
   "id": "4ef3843b",
   "metadata": {
    "scrolled": true
   },
   "outputs": [
    {
     "data": {
      "text/plain": [
       "True"
      ]
     },
     "execution_count": 34,
     "metadata": {},
     "output_type": "execute_result"
    }
   ],
   "source": [
    "np.any(np.isnan(all_data['left_eye_center_x'].array))"
   ]
  },
  {
   "cell_type": "code",
   "execution_count": 36,
   "id": "041757e7",
   "metadata": {},
   "outputs": [
    {
     "data": {
      "text/plain": [
       "0       False\n",
       "1       False\n",
       "2       False\n",
       "3       False\n",
       "4       False\n",
       "        ...  \n",
       "7044    False\n",
       "7045    False\n",
       "7046    False\n",
       "7047    False\n",
       "7048    False\n",
       "Name: left_eye_center_x, Length: 7049, dtype: bool"
      ]
     },
     "execution_count": 36,
     "metadata": {},
     "output_type": "execute_result"
    }
   ],
   "source": [
    "pd.isna(all_data['left_eye_center_x'])"
   ]
  },
  {
   "cell_type": "code",
   "execution_count": 3,
   "id": "158ac1ea",
   "metadata": {},
   "outputs": [],
   "source": [
    "all_data = all_data[~(pd.isna(all_data['left_eye_center_x']) | pd.isna(all_data['left_eye_center_y']))].reset_index(drop=True)"
   ]
  },
  {
   "cell_type": "markdown",
   "id": "9c716c49",
   "metadata": {},
   "source": [
    "## Split the data into train and test"
   ]
  },
  {
   "cell_type": "code",
   "execution_count": 4,
   "id": "a134be4c",
   "metadata": {},
   "outputs": [],
   "source": [
    "test_fraction = 0.1\n",
    "test_index = int((1-test_fraction)*len(all_data))\n",
    "train_data, test_data = all_data[:test_index], all_data[test_index:]"
   ]
  },
  {
   "cell_type": "code",
   "execution_count": 5,
   "id": "a1355230",
   "metadata": {
    "scrolled": true
   },
   "outputs": [
    {
     "data": {
      "text/plain": [
       "(6344, 705)"
      ]
     },
     "execution_count": 5,
     "metadata": {},
     "output_type": "execute_result"
    }
   ],
   "source": [
    "len(train_data), len(test_data)"
   ]
  },
  {
   "cell_type": "code",
   "execution_count": 4,
   "id": "3b38582d",
   "metadata": {
    "scrolled": true
   },
   "outputs": [],
   "source": [
    "train_data, test_data = sklearn.model_selection.train_test_split(all_data, test_size=0.1)"
   ]
  },
  {
   "cell_type": "code",
   "execution_count": 5,
   "id": "7798595a",
   "metadata": {},
   "outputs": [],
   "source": [
    "train_data = train_data.reset_index(drop=True)\n",
    "test_data = test_data.reset_index(drop=True)"
   ]
  },
  {
   "cell_type": "code",
   "execution_count": 6,
   "id": "d55a6286",
   "metadata": {
    "scrolled": true
   },
   "outputs": [
    {
     "data": {
      "text/plain": [
       "[6335, 704]"
      ]
     },
     "execution_count": 6,
     "metadata": {},
     "output_type": "execute_result"
    }
   ],
   "source": [
    "list(map(len, (train_data, test_data)))"
   ]
  },
  {
   "cell_type": "markdown",
   "id": "4de94263",
   "metadata": {},
   "source": [
    "## Preprocces the data"
   ]
  },
  {
   "cell_type": "code",
   "execution_count": 7,
   "id": "059e04c5",
   "metadata": {},
   "outputs": [
    {
     "data": {
      "text/plain": [
       "<matplotlib.collections.PathCollection at 0x7ff81e764650>"
      ]
     },
     "execution_count": 7,
     "metadata": {},
     "output_type": "execute_result"
    },
    {
     "data": {
      "image/png": "[encoded data removed]",
      "text/plain": [
       "<Figure size 640x480 with 1 Axes>"
      ]
     },
     "metadata": {},
     "output_type": "display_data"
    }
   ],
   "source": [
    "idx = 0\n",
    "plt.imshow(np.array(list(map(int, train_data.at[idx, 'Image'].split()))).reshape((96, 96)), cmap='gray')\n",
    "plt.scatter([train_data.at[idx, 'left_eye_center_x']], [train_data.at[idx, 'left_eye_center_y']])"
   ]
  },
  {
   "cell_type": "markdown",
   "id": "23f08b13",
   "metadata": {},
   "source": [
    "### Create a torch Dataset class"
   ]
  },
  {
   "cell_type": "code",
   "execution_count": 8,
   "id": "b9a9c9ec",
   "metadata": {},
   "outputs": [],
   "source": [
    "class IntStrFaces(torch.utils.data.Dataset):\n",
    "    SHAPE = (96, 96)\n",
    "    \n",
    "    def __init__(self, df, transform=None, target_transform=None, point_name='left_eye_center'):\n",
    "        self.df = df\n",
    "        self.transform = transform\n",
    "        self.target_transform = target_transform\n",
    "        self.point_name = point_name\n",
    "    \n",
    "    def __len__(self):\n",
    "        return len(self.df)\n",
    "    \n",
    "    def __getitem__(self, idx):\n",
    "        image = map(int, self.df.at[idx, 'Image'].split())\n",
    "        image = np.array(list(image)).reshape(self.SHAPE)\n",
    "        if self.transform:\n",
    "            image = self.transform(image)\n",
    "            \n",
    "        label = np.array(self.df.iloc[idx][self.point_name + '_x':self.point_name + '_y'], dtype=float)\n",
    "        if self.target_transform:\n",
    "            label = self.target_transform(label)\n",
    "        \n",
    "        return image, label"
   ]
  },
  {
   "cell_type": "code",
   "execution_count": 11,
   "id": "0eef4172",
   "metadata": {
    "scrolled": true
   },
   "outputs": [
    {
     "data": {
      "text/plain": [
       "array([64.33293617, 34.9700766 ])"
      ]
     },
     "execution_count": 11,
     "metadata": {},
     "output_type": "execute_result"
    }
   ],
   "source": [
    "np.array(all_data.iloc[1]['left_eye_center_x':'left_eye_center_y'], dtype=float)"
   ]
  },
  {
   "cell_type": "markdown",
   "id": "a4bfed59",
   "metadata": {},
   "source": [
    "We want coordinates to be in the interval [-1, 1]."
   ]
  },
  {
   "cell_type": "code",
   "execution_count": 9,
   "id": "71a728d4",
   "metadata": {},
   "outputs": [],
   "source": [
    "coord_transform = lambda v: 2 * v / 96 - 1\n",
    "coord_fix = lambda u: (u + 1) * 96 / 2"
   ]
  },
  {
   "cell_type": "code",
   "execution_count": 10,
   "id": "bd475c06",
   "metadata": {},
   "outputs": [],
   "source": [
    "train_dataset = IntStrFaces(\n",
    "    train_data, \n",
    "    transform=lambda arr: torch.tensor(arr/255, dtype=torch.float32).unsqueeze(0),\n",
    "    target_transform=lambda arr: torch.tensor(coord_transform(arr), dtype=torch.float32)\n",
    ")\n",
    "test_dataset = IntStrFaces(\n",
    "    test_data,\n",
    "    transform=lambda arr: torch.tensor(arr/255, dtype=torch.float32).unsqueeze(0),\n",
    "    target_transform=lambda arr: torch.tensor(coord_transform(arr), dtype=torch.float32)\n",
    ")"
   ]
  },
  {
   "cell_type": "code",
   "execution_count": 11,
   "id": "3ad46adb",
   "metadata": {
    "scrolled": true
   },
   "outputs": [
    {
     "data": {
      "text/plain": [
       "(tensor([[[0.9373, 0.9294, 0.9294,  ..., 0.3255, 0.2784, 0.2275],\n",
       "          [0.9294, 0.9255, 0.9294,  ..., 0.3137, 0.3216, 0.2824],\n",
       "          [0.9255, 0.9216, 0.9137,  ..., 0.2980, 0.2941, 0.3255],\n",
       "          ...,\n",
       "          [0.0235, 0.3137, 0.4078,  ..., 0.5569, 0.5490, 0.4784],\n",
       "          [0.0118, 0.2627, 0.4078,  ..., 0.5647, 0.5333, 0.4667],\n",
       "          [0.0039, 0.2431, 0.4235,  ..., 0.5569, 0.5176, 0.4314]]]),\n",
       " tensor([ 0.3947, -0.1944]))"
      ]
     },
     "execution_count": 11,
     "metadata": {},
     "output_type": "execute_result"
    }
   ],
   "source": [
    "train_dataset[0]"
   ]
  },
  {
   "cell_type": "markdown",
   "id": "7c5d7ba3",
   "metadata": {},
   "source": [
    "# Let's try a Spatial Transformer\n",
    "We want to do a one hot approach, but this has a severe lack in presicion. We can make up for this by resampling only in the relevant area, then inverting the position through the resampler."
   ]
  },
  {
   "cell_type": "code",
   "execution_count": 139,
   "id": "193657df",
   "metadata": {},
   "outputs": [],
   "source": [
    "# Attempt 1\n",
    "class Net(torch.nn.Module):\n",
    "    def __init__(self):\n",
    "        super().__init__()\n",
    "        \n",
    "        # theta determines where to grid sample the image\n",
    "        self.theta = torch.nn.Sequential(\n",
    "            # shape (n, 1, 96, 96)\n",
    "            \n",
    "            torch.nn.Conv2d(1, 8, kernel_size=17),\n",
    "            # shape (n, 8, 80, 80)\n",
    "            torch.nn.MaxPool2d(2),\n",
    "            # shape (n, 8, 40, 40)\n",
    "            torch.nn.ReLU(True),\n",
    "            \n",
    "            torch.nn.Conv2d(8, 12, kernel_size=11),\n",
    "            # shape (n, 12, 30, 30)\n",
    "            torch.nn.MaxPool2d(2),\n",
    "            # shape (n, 12, 15, 15)\n",
    "            torch.nn.ReLU(True),\n",
    "            \n",
    "            torch.nn.Conv2d(12, 14, kernel_size=6),\n",
    "            # shape (n, 14, 10, 10)\n",
    "            torch.nn.MaxPool2d(2),\n",
    "            # shape (n, 14, 5, 5)\n",
    "            torch.nn.ReLU(True),\n",
    "            \n",
    "            torch.nn.Flatten(),\n",
    "            \n",
    "            torch.nn.Linear(14 * 5 * 5, 64),\n",
    "            torch.nn.ReLU(),\n",
    "            \n",
    "            torch.nn.Linear(64, 6)\n",
    "        )\n",
    "        \n",
    "        # we feed the sample to the main net\n",
    "        self.main_net = torch.nn.Sequential(\n",
    "            # 2 convolution layers\n",
    "            # shape (n, 1, 24, 24)\n",
    "            torch.nn.Conv2d(1, 6, kernel_size=9),\n",
    "            # shape (n, 6, 16, 16)\n",
    "            torch.nn.MaxPool2d(2),\n",
    "            # shape (n, 6, 8, 8)\n",
    "            torch.nn.ReLU(True),\n",
    "            torch.nn.Conv2d(6, 12, kernel_size=5),\n",
    "            # shape (n, 12, 4, 4)\n",
    "            torch.nn.Dropout2d(p=0.8),\n",
    "            torch.nn.MaxPool2d(2),\n",
    "            # shape (n, 12, 2, 2)\n",
    "            torch.nn.ReLU(True),\n",
    "            torch.nn.Flatten(),\n",
    "            torch.nn.Linear(12 * 2 * 2, 10),\n",
    "            torch.nn.ReLU(True),\n",
    "            torch.nn.Dropout(p=0.8),\n",
    "            torch.nn.Linear(10, 2)\n",
    "        )\n",
    "        \n",
    "        # we want the grid sample transformation to start as the identity\n",
    "        self.theta[-1].weight.data.zero_()\n",
    "        self.theta[-1].bias.data.copy_(torch.tensor([0.8, 0, 0, 0, 0.8, 0], dtype=float))\n",
    "    \n",
    "    def stn(self, x):\n",
    "        SIZE = (24, 24)\n",
    "        theta = self.theta(x)\n",
    "        theta = theta.view(-1, 2, 3)\n",
    "        grid = torch.nn.functional.affine_grid(theta, (theta.size(0), 1) + SIZE)\n",
    "        # theta = torch.cat([theta, torch.tensor([[[0, 0, 1]]])], dim=1)\n",
    "        sample = torch.nn.functional.grid_sample(x, grid)\n",
    "        return sample, theta\n",
    "    \n",
    "    def forward(self, x):\n",
    "        sample, theta = self.stn(x)\n",
    "        local_coords = self.main_net(sample)\n",
    "        \n",
    "        local_coords = torch.cat([local_coords, torch.ones(local_coords.size(0), 1, device=local_coords.device)], dim=1)\n",
    "        \n",
    "        # row = torch.tensor([[0, 0, 1]], device=local_coords.device).expand(local_coords.size(0), -1, -1)\n",
    "        # theta = torch.cat([theta, row], dim=1)\n",
    "        # theta_inv = torch.linalg.inv(theta)[:, :2, :]\n",
    "        \n",
    "        # coords = torch.bmm(local_coords.unsqueeze(1), theta_inv.mT).squeeze()\n",
    "        \n",
    "        coords = torch.bmm(local_coords.unsqueeze(1), theta.mT).squeeze()\n",
    "        \n",
    "        return coords"
   ]
  },
  {
   "cell_type": "code",
   "execution_count": 87,
   "id": "0869395e",
   "metadata": {
    "scrolled": false
   },
   "outputs": [
    {
     "data": {
      "text/plain": [
       "tensor([[[[-1.3333, -1.3333],\n",
       "          [ 0.0000, -1.3333],\n",
       "          [ 1.3333, -1.3333]],\n",
       "\n",
       "         [[-1.3333,  0.0000],\n",
       "          [ 0.0000,  0.0000],\n",
       "          [ 1.3333,  0.0000]],\n",
       "\n",
       "         [[-1.3333,  1.3333],\n",
       "          [ 0.0000,  1.3333],\n",
       "          [ 1.3333,  1.3333]]]], dtype=torch.float64)"
      ]
     },
     "execution_count": 87,
     "metadata": {},
     "output_type": "execute_result"
    }
   ],
   "source": [
    "torch.nn.functional.affine_grid(torch.tensor([[[2, 0, 0], [0, 2, 0]]], dtype=float), (1, 1, 3, 3))"
   ]
  },
  {
   "cell_type": "code",
   "execution_count": 88,
   "id": "b01a49a2",
   "metadata": {},
   "outputs": [
    {
     "data": {
      "text/plain": [
       "tensor([[[ 0.5000, -0.2500,  0.0000],\n",
       "         [ 0.0000,  0.5000,  0.0000]]], dtype=torch.float64)"
      ]
     },
     "execution_count": 88,
     "metadata": {},
     "output_type": "execute_result"
    }
   ],
   "source": [
    "theta = torch.tensor([[[2, 1, 0], [0, 2, 0]]], dtype=float)\n",
    "row = torch.tensor([[[0, 0, 1]]])\n",
    "theta = torch.cat([theta, row], dim=1)\n",
    "torch.linalg.inv(theta)[:, :2, :]"
   ]
  },
  {
   "cell_type": "code",
   "execution_count": 89,
   "id": "547b1ce9",
   "metadata": {},
   "outputs": [
    {
     "data": {
      "text/plain": [
       "tensor([[-0.6667, -0.6667]], dtype=torch.float64)"
      ]
     },
     "execution_count": 89,
     "metadata": {},
     "output_type": "execute_result"
    }
   ],
   "source": [
    "theta = torch.tensor([[[2, 1, 0], [0, 2, 0]]], dtype=float)\n",
    "theta_inv = torch.linalg.inv(torch.cat([theta, row], dim=1))[:, :2, :]\n",
    "torch.cat([torch.nn.functional.affine_grid(theta, (1, 1, 3, 3))[0, 0, 0], torch.tensor([1])]) @ theta_inv.mT"
   ]
  },
  {
   "cell_type": "code",
   "execution_count": 90,
   "id": "304e260d",
   "metadata": {},
   "outputs": [],
   "source": [
    "v = torch.arange(10).reshape(5, 2).to(float)"
   ]
  },
  {
   "cell_type": "code",
   "execution_count": 91,
   "id": "d693414f",
   "metadata": {},
   "outputs": [],
   "source": [
    "M = torch.tensor([[[1, 0], [1, 2]] for _ in range(5)], dtype=float)"
   ]
  },
  {
   "cell_type": "code",
   "execution_count": 21,
   "id": "514f9a60",
   "metadata": {
    "scrolled": true
   },
   "outputs": [
    {
     "data": {
      "text/plain": [
       "tensor([[[ 0.,  2.]],\n",
       "\n",
       "        [[ 2.,  8.]],\n",
       "\n",
       "        [[ 4., 14.]],\n",
       "\n",
       "        [[ 6., 20.]],\n",
       "\n",
       "        [[ 8., 26.]]], dtype=torch.float64)"
      ]
     },
     "execution_count": 21,
     "metadata": {},
     "output_type": "execute_result"
    }
   ],
   "source": [
    "torch.bmm(v.unsqueeze(1), M.mT)"
   ]
  },
  {
   "cell_type": "code",
   "execution_count": 22,
   "id": "16205d91",
   "metadata": {},
   "outputs": [
    {
     "data": {
      "text/plain": [
       "tensor([[0., 1., 1.],\n",
       "        [2., 3., 1.],\n",
       "        [4., 5., 1.],\n",
       "        [6., 7., 1.],\n",
       "        [8., 9., 1.]], dtype=torch.float64)"
      ]
     },
     "execution_count": 22,
     "metadata": {},
     "output_type": "execute_result"
    }
   ],
   "source": [
    "torch.cat([v, torch.ones(v.size(0), 1)], dim=1)"
   ]
  },
  {
   "cell_type": "markdown",
   "id": "0d52bf59",
   "metadata": {},
   "source": [
    "## Now lets train the model"
   ]
  },
  {
   "cell_type": "code",
   "execution_count": 140,
   "id": "563f145d",
   "metadata": {},
   "outputs": [],
   "source": [
    "train_dataloader = torch.utils.data.DataLoader(\n",
    "    train_dataset,\n",
    "    batch_size=32,\n",
    "    shuffle=True,\n",
    "    num_workers=4\n",
    ")\n",
    "\n",
    "test_dataloader = torch.utils.data.DataLoader(\n",
    "    test_dataset,\n",
    "    batch_size=32,\n",
    "    shuffle=True,\n",
    "    num_workers=4\n",
    ")"
   ]
  },
  {
   "cell_type": "code",
   "execution_count": 141,
   "id": "9c158f2c",
   "metadata": {},
   "outputs": [],
   "source": [
    "model = Net().to('cuda')\n",
    "optimizer = torch.optim.Adam(model.parameters())\n",
    "\n",
    "def train(epoch):\n",
    "    model.train()\n",
    "    for batch_idx, (data, target) in enumerate(train_dataloader):\n",
    "        data, target = data.to('cuda'), target.to('cuda')\n",
    "        optimizer.zero_grad()\n",
    "        output = model(data)\n",
    "        loss = torch.nn.functional.mse_loss(output, target)\n",
    "        loss.backward()\n",
    "        optimizer.step()\n",
    "        if batch_idx % 60 == 0:\n",
    "            print(f'Epoch {epoch}: {batch_idx*len(data)}/{len(train_dataloader.dataset)} Loss: {loss.item():.6f}')"
   ]
  },
  {
   "cell_type": "code",
   "execution_count": 142,
   "id": "f1ea95e1",
   "metadata": {
    "scrolled": false
   },
   "outputs": [
    {
     "name": "stdout",
     "output_type": "stream",
     "text": [
      "Epoch 0: 0/6335 Loss: 0.138204\n",
      "Epoch 0: 1920/6335 Loss: 0.006172\n",
      "Epoch 0: 3840/6335 Loss: 0.003626\n",
      "Epoch 0: 5760/6335 Loss: 0.007409\n",
      "Epoch 1: 0/6335 Loss: 0.008035\n",
      "Epoch 1: 1920/6335 Loss: 0.003317\n",
      "Epoch 1: 3840/6335 Loss: 0.005984\n",
      "Epoch 1: 5760/6335 Loss: 0.002271\n",
      "Epoch 2: 0/6335 Loss: 0.004614\n",
      "Epoch 2: 1920/6335 Loss: 0.002944\n",
      "Epoch 2: 3840/6335 Loss: 0.003514\n",
      "Epoch 2: 5760/6335 Loss: 0.005999\n",
      "Epoch 3: 0/6335 Loss: 0.002428\n",
      "Epoch 3: 1920/6335 Loss: 0.003888\n",
      "Epoch 3: 3840/6335 Loss: 0.002386\n",
      "Epoch 3: 5760/6335 Loss: 0.002267\n",
      "Epoch 4: 0/6335 Loss: 0.004373\n",
      "Epoch 4: 1920/6335 Loss: 0.004452\n",
      "Epoch 4: 3840/6335 Loss: 0.003046\n",
      "Epoch 4: 5760/6335 Loss: 0.003863\n",
      "Epoch 5: 0/6335 Loss: 0.002849\n",
      "Epoch 5: 1920/6335 Loss: 0.007759\n",
      "Epoch 5: 3840/6335 Loss: 0.002120\n",
      "Epoch 5: 5760/6335 Loss: 0.003118\n",
      "Epoch 6: 0/6335 Loss: 0.006114\n",
      "Epoch 6: 1920/6335 Loss: 0.002029\n",
      "Epoch 6: 3840/6335 Loss: 0.002319\n",
      "Epoch 6: 5760/6335 Loss: 0.011468\n",
      "Epoch 7: 0/6335 Loss: 0.001259\n",
      "Epoch 7: 1920/6335 Loss: 0.002183\n",
      "Epoch 7: 3840/6335 Loss: 0.003960\n",
      "Epoch 7: 5760/6335 Loss: 0.002380\n",
      "Epoch 8: 0/6335 Loss: 0.010703\n",
      "Epoch 8: 1920/6335 Loss: 0.014031\n",
      "Epoch 8: 3840/6335 Loss: 0.001268\n",
      "Epoch 8: 5760/6335 Loss: 0.001160\n",
      "Epoch 9: 0/6335 Loss: 0.001713\n",
      "Epoch 9: 1920/6335 Loss: 0.001171\n",
      "Epoch 9: 3840/6335 Loss: 0.001740\n",
      "Epoch 9: 5760/6335 Loss: 0.002009\n",
      "Epoch 10: 0/6335 Loss: 0.001864\n",
      "Epoch 10: 1920/6335 Loss: 0.001779\n",
      "Epoch 10: 3840/6335 Loss: 0.002280\n",
      "Epoch 10: 5760/6335 Loss: 0.001765\n",
      "Epoch 11: 0/6335 Loss: 0.002558\n",
      "Epoch 11: 1920/6335 Loss: 0.000886\n",
      "Epoch 11: 3840/6335 Loss: 0.001483\n",
      "Epoch 11: 5760/6335 Loss: 0.001742\n",
      "Epoch 12: 0/6335 Loss: 0.001463\n",
      "Epoch 12: 1920/6335 Loss: 0.002095\n",
      "Epoch 12: 3840/6335 Loss: 0.027902\n",
      "Epoch 12: 5760/6335 Loss: 0.001610\n",
      "Epoch 13: 0/6335 Loss: 0.001223\n",
      "Epoch 13: 1920/6335 Loss: 0.000976\n",
      "Epoch 13: 3840/6335 Loss: 0.000951\n",
      "Epoch 13: 5760/6335 Loss: 0.001580\n",
      "Epoch 14: 0/6335 Loss: 0.002810\n",
      "Epoch 14: 1920/6335 Loss: 0.001385\n",
      "Epoch 14: 3840/6335 Loss: 0.005502\n",
      "Epoch 14: 5760/6335 Loss: 0.000788\n",
      "Epoch 15: 0/6335 Loss: 0.000625\n",
      "Epoch 15: 1920/6335 Loss: 0.000758\n",
      "Epoch 15: 3840/6335 Loss: 0.001000\n",
      "Epoch 15: 5760/6335 Loss: 0.004931\n",
      "Epoch 16: 0/6335 Loss: 0.001485\n",
      "Epoch 16: 1920/6335 Loss: 0.001014\n",
      "Epoch 16: 3840/6335 Loss: 0.001102\n",
      "Epoch 16: 5760/6335 Loss: 0.001327\n",
      "Epoch 17: 0/6335 Loss: 0.001170\n",
      "Epoch 17: 1920/6335 Loss: 0.001398\n",
      "Epoch 17: 3840/6335 Loss: 0.005370\n",
      "Epoch 17: 5760/6335 Loss: 0.000991\n",
      "Epoch 18: 0/6335 Loss: 0.005922\n",
      "Epoch 18: 1920/6335 Loss: 0.001075\n",
      "Epoch 18: 3840/6335 Loss: 0.005243\n",
      "Epoch 18: 5760/6335 Loss: 0.001545\n",
      "Epoch 19: 0/6335 Loss: 0.000819\n",
      "Epoch 19: 1920/6335 Loss: 0.006090\n",
      "Epoch 19: 3840/6335 Loss: 0.001357\n",
      "Epoch 19: 5760/6335 Loss: 0.000854\n",
      "Epoch 20: 0/6335 Loss: 0.000682\n",
      "Epoch 20: 1920/6335 Loss: 0.000958\n",
      "Epoch 20: 3840/6335 Loss: 0.001002\n",
      "Epoch 20: 5760/6335 Loss: 0.000966\n",
      "Epoch 21: 0/6335 Loss: 0.000634\n",
      "Epoch 21: 1920/6335 Loss: 0.001103\n",
      "Epoch 21: 3840/6335 Loss: 0.000659\n",
      "Epoch 21: 5760/6335 Loss: 0.001140\n",
      "Epoch 22: 0/6335 Loss: 0.000653\n",
      "Epoch 22: 1920/6335 Loss: 0.005468\n",
      "Epoch 22: 3840/6335 Loss: 0.000689\n",
      "Epoch 22: 5760/6335 Loss: 0.001010\n",
      "Epoch 23: 0/6335 Loss: 0.014767\n",
      "Epoch 23: 1920/6335 Loss: 0.001425\n",
      "Epoch 23: 3840/6335 Loss: 0.001182\n",
      "Epoch 23: 5760/6335 Loss: 0.001323\n",
      "Epoch 24: 0/6335 Loss: 0.007705\n",
      "Epoch 24: 1920/6335 Loss: 0.001033\n",
      "Epoch 24: 3840/6335 Loss: 0.001317\n",
      "Epoch 24: 5760/6335 Loss: 0.001703\n",
      "Epoch 25: 0/6335 Loss: 0.000704\n",
      "Epoch 25: 1920/6335 Loss: 0.000800\n",
      "Epoch 25: 3840/6335 Loss: 0.000842\n",
      "Epoch 25: 5760/6335 Loss: 0.001076\n",
      "Epoch 26: 0/6335 Loss: 0.001428\n",
      "Epoch 26: 1920/6335 Loss: 0.000569\n",
      "Epoch 26: 3840/6335 Loss: 0.000786\n",
      "Epoch 26: 5760/6335 Loss: 0.001072\n",
      "Epoch 27: 0/6335 Loss: 0.001324\n",
      "Epoch 27: 1920/6335 Loss: 0.000777\n",
      "Epoch 27: 3840/6335 Loss: 0.000703\n",
      "Epoch 27: 5760/6335 Loss: 0.001081\n",
      "Epoch 28: 0/6335 Loss: 0.001164\n",
      "Epoch 28: 1920/6335 Loss: 0.014061\n",
      "Epoch 28: 3840/6335 Loss: 0.003561\n",
      "Epoch 28: 5760/6335 Loss: 0.001002\n",
      "Epoch 29: 0/6335 Loss: 0.005161\n",
      "Epoch 29: 1920/6335 Loss: 0.000629\n",
      "Epoch 29: 3840/6335 Loss: 0.000771\n",
      "Epoch 29: 5760/6335 Loss: 0.001203\n",
      "Epoch 30: 0/6335 Loss: 0.000829\n",
      "Epoch 30: 1920/6335 Loss: 0.000647\n",
      "Epoch 30: 3840/6335 Loss: 0.001272\n",
      "Epoch 30: 5760/6335 Loss: 0.000938\n",
      "Epoch 31: 0/6335 Loss: 0.002410\n",
      "Epoch 31: 1920/6335 Loss: 0.000775\n",
      "Epoch 31: 3840/6335 Loss: 0.000600\n",
      "Epoch 31: 5760/6335 Loss: 0.000843\n",
      "Epoch 32: 0/6335 Loss: 0.000421\n",
      "Epoch 32: 1920/6335 Loss: 0.011710\n",
      "Epoch 32: 3840/6335 Loss: 0.000900\n",
      "Epoch 32: 5760/6335 Loss: 0.000999\n",
      "Epoch 33: 0/6335 Loss: 0.000494\n",
      "Epoch 33: 1920/6335 Loss: 0.001249\n",
      "Epoch 33: 3840/6335 Loss: 0.000623\n",
      "Epoch 33: 5760/6335 Loss: 0.001195\n",
      "Epoch 34: 0/6335 Loss: 0.000754\n",
      "Epoch 34: 1920/6335 Loss: 0.000555\n",
      "Epoch 34: 3840/6335 Loss: 0.001030\n",
      "Epoch 34: 5760/6335 Loss: 0.001002\n",
      "Epoch 35: 0/6335 Loss: 0.000792\n",
      "Epoch 35: 1920/6335 Loss: 0.000420\n",
      "Epoch 35: 3840/6335 Loss: 0.013721\n",
      "Epoch 35: 5760/6335 Loss: 0.000637\n",
      "Epoch 36: 0/6335 Loss: 0.000830\n",
      "Epoch 36: 1920/6335 Loss: 0.000486\n",
      "Epoch 36: 3840/6335 Loss: 0.000753\n",
      "Epoch 36: 5760/6335 Loss: 0.000819\n",
      "Epoch 37: 0/6335 Loss: 0.000594\n",
      "Epoch 37: 1920/6335 Loss: 0.011286\n",
      "Epoch 37: 3840/6335 Loss: 0.000572\n",
      "Epoch 37: 5760/6335 Loss: 0.000343\n",
      "Epoch 38: 0/6335 Loss: 0.000698\n",
      "Epoch 38: 1920/6335 Loss: 0.000640\n",
      "Epoch 38: 3840/6335 Loss: 0.000633\n",
      "Epoch 38: 5760/6335 Loss: 0.000646\n",
      "Epoch 39: 0/6335 Loss: 0.000681\n",
      "Epoch 39: 1920/6335 Loss: 0.000555\n",
      "Epoch 39: 3840/6335 Loss: 0.001015\n",
      "Epoch 39: 5760/6335 Loss: 0.000839\n",
      "Epoch 40: 0/6335 Loss: 0.000746\n",
      "Epoch 40: 1920/6335 Loss: 0.000877\n",
      "Epoch 40: 3840/6335 Loss: 0.005952\n",
      "Epoch 40: 5760/6335 Loss: 0.000879\n",
      "Epoch 41: 0/6335 Loss: 0.000593\n",
      "Epoch 41: 1920/6335 Loss: 0.000548\n",
      "Epoch 41: 3840/6335 Loss: 0.000659\n",
      "Epoch 41: 5760/6335 Loss: 0.000585\n",
      "Epoch 42: 0/6335 Loss: 0.000740\n",
      "Epoch 42: 1920/6335 Loss: 0.000664\n",
      "Epoch 42: 3840/6335 Loss: 0.000664\n",
      "Epoch 42: 5760/6335 Loss: 0.000630\n",
      "Epoch 43: 0/6335 Loss: 0.000621\n",
      "Epoch 43: 1920/6335 Loss: 0.000549\n",
      "Epoch 43: 3840/6335 Loss: 0.000445\n",
      "Epoch 43: 5760/6335 Loss: 0.001172\n",
      "Epoch 44: 0/6335 Loss: 0.000441\n",
      "Epoch 44: 1920/6335 Loss: 0.000813\n",
      "Epoch 44: 3840/6335 Loss: 0.000906\n",
      "Epoch 44: 5760/6335 Loss: 0.000767\n",
      "Epoch 45: 0/6335 Loss: 0.009105\n",
      "Epoch 45: 1920/6335 Loss: 0.000661\n",
      "Epoch 45: 3840/6335 Loss: 0.000519\n",
      "Epoch 45: 5760/6335 Loss: 0.000435\n",
      "Epoch 46: 0/6335 Loss: 0.000475\n",
      "Epoch 46: 1920/6335 Loss: 0.000532\n",
      "Epoch 46: 3840/6335 Loss: 0.005081\n",
      "Epoch 46: 5760/6335 Loss: 0.000738\n",
      "Epoch 47: 0/6335 Loss: 0.000562\n",
      "Epoch 47: 1920/6335 Loss: 0.001070\n",
      "Epoch 47: 3840/6335 Loss: 0.000413\n",
      "Epoch 47: 5760/6335 Loss: 0.000689\n",
      "Epoch 48: 0/6335 Loss: 0.000539\n",
      "Epoch 48: 1920/6335 Loss: 0.000563\n",
      "Epoch 48: 3840/6335 Loss: 0.000654\n",
      "Epoch 48: 5760/6335 Loss: 0.009456\n",
      "Epoch 49: 0/6335 Loss: 0.000452\n",
      "Epoch 49: 1920/6335 Loss: 0.000545\n",
      "Epoch 49: 3840/6335 Loss: 0.000639\n",
      "Epoch 49: 5760/6335 Loss: 0.000427\n",
      "Epoch 50: 0/6335 Loss: 0.001180\n",
      "Epoch 50: 1920/6335 Loss: 0.000487\n",
      "Epoch 50: 3840/6335 Loss: 0.000612\n",
      "Epoch 50: 5760/6335 Loss: 0.000651\n",
      "Epoch 51: 0/6335 Loss: 0.000742\n",
      "Epoch 51: 1920/6335 Loss: 0.000516\n",
      "Epoch 51: 3840/6335 Loss: 0.000703\n",
      "Epoch 51: 5760/6335 Loss: 0.000721\n",
      "Epoch 52: 0/6335 Loss: 0.001229\n",
      "Epoch 52: 1920/6335 Loss: 0.000490\n",
      "Epoch 52: 3840/6335 Loss: 0.000561\n",
      "Epoch 52: 5760/6335 Loss: 0.000448\n",
      "Epoch 53: 0/6335 Loss: 0.000573\n",
      "Epoch 53: 1920/6335 Loss: 0.000671\n",
      "Epoch 53: 3840/6335 Loss: 0.000559\n",
      "Epoch 53: 5760/6335 Loss: 0.000567\n",
      "Epoch 54: 0/6335 Loss: 0.000682\n",
      "Epoch 54: 1920/6335 Loss: 0.000808\n",
      "Epoch 54: 3840/6335 Loss: 0.011178\n",
      "Epoch 54: 5760/6335 Loss: 0.000460\n",
      "Epoch 55: 0/6335 Loss: 0.000332\n",
      "Epoch 55: 1920/6335 Loss: 0.000638\n",
      "Epoch 55: 3840/6335 Loss: 0.002140\n",
      "Epoch 55: 5760/6335 Loss: 0.000411\n",
      "Epoch 56: 0/6335 Loss: 0.000414\n",
      "Epoch 56: 1920/6335 Loss: 0.000378\n",
      "Epoch 56: 3840/6335 Loss: 0.000444\n",
      "Epoch 56: 5760/6335 Loss: 0.000564\n",
      "Epoch 57: 0/6335 Loss: 0.000686\n",
      "Epoch 57: 1920/6335 Loss: 0.000831\n",
      "Epoch 57: 3840/6335 Loss: 0.000673\n",
      "Epoch 57: 5760/6335 Loss: 0.000481\n",
      "Epoch 58: 0/6335 Loss: 0.000355\n",
      "Epoch 58: 1920/6335 Loss: 0.000622\n",
      "Epoch 58: 3840/6335 Loss: 0.000563\n",
      "Epoch 58: 5760/6335 Loss: 0.000536\n",
      "Epoch 59: 0/6335 Loss: 0.000315\n",
      "Epoch 59: 1920/6335 Loss: 0.000465\n",
      "Epoch 59: 3840/6335 Loss: 0.000304\n",
      "Epoch 59: 5760/6335 Loss: 0.000591\n",
      "Epoch 60: 0/6335 Loss: 0.000671\n"
     ]
    },
    {
     "name": "stdout",
     "output_type": "stream",
     "text": [
      "Epoch 60: 1920/6335 Loss: 0.002869\n",
      "Epoch 60: 3840/6335 Loss: 0.000787\n",
      "Epoch 60: 5760/6335 Loss: 0.001244\n",
      "Epoch 61: 0/6335 Loss: 0.000700\n",
      "Epoch 61: 1920/6335 Loss: 0.000685\n",
      "Epoch 61: 3840/6335 Loss: 0.000554\n",
      "Epoch 61: 5760/6335 Loss: 0.000618\n",
      "Epoch 62: 0/6335 Loss: 0.000619\n",
      "Epoch 62: 1920/6335 Loss: 0.000519\n",
      "Epoch 62: 3840/6335 Loss: 0.000690\n",
      "Epoch 62: 5760/6335 Loss: 0.000665\n",
      "Epoch 63: 0/6335 Loss: 0.000565\n",
      "Epoch 63: 1920/6335 Loss: 0.001110\n",
      "Epoch 63: 3840/6335 Loss: 0.001825\n",
      "Epoch 63: 5760/6335 Loss: 0.000916\n",
      "Epoch 64: 0/6335 Loss: 0.000413\n",
      "Epoch 64: 1920/6335 Loss: 0.000390\n",
      "Epoch 64: 3840/6335 Loss: 0.000515\n",
      "Epoch 64: 5760/6335 Loss: 0.000381\n",
      "Epoch 65: 0/6335 Loss: 0.000534\n",
      "Epoch 65: 1920/6335 Loss: 0.000201\n",
      "Epoch 65: 3840/6335 Loss: 0.000212\n",
      "Epoch 65: 5760/6335 Loss: 0.000696\n",
      "Epoch 66: 0/6335 Loss: 0.000509\n",
      "Epoch 66: 1920/6335 Loss: 0.000547\n",
      "Epoch 66: 3840/6335 Loss: 0.000417\n",
      "Epoch 66: 5760/6335 Loss: 0.000349\n",
      "Epoch 67: 0/6335 Loss: 0.000396\n",
      "Epoch 67: 1920/6335 Loss: 0.000435\n",
      "Epoch 67: 3840/6335 Loss: 0.000559\n",
      "Epoch 67: 5760/6335 Loss: 0.009736\n",
      "Epoch 68: 0/6335 Loss: 0.000290\n",
      "Epoch 68: 1920/6335 Loss: 0.000686\n",
      "Epoch 68: 3840/6335 Loss: 0.000618\n",
      "Epoch 68: 5760/6335 Loss: 0.000690\n",
      "Epoch 69: 0/6335 Loss: 0.000497\n",
      "Epoch 69: 1920/6335 Loss: 0.000538\n",
      "Epoch 69: 3840/6335 Loss: 0.004757\n",
      "Epoch 69: 5760/6335 Loss: 0.000419\n",
      "Epoch 70: 0/6335 Loss: 0.000351\n",
      "Epoch 70: 1920/6335 Loss: 0.000488\n",
      "Epoch 70: 3840/6335 Loss: 0.000411\n",
      "Epoch 70: 5760/6335 Loss: 0.000339\n",
      "Epoch 71: 0/6335 Loss: 0.000720\n",
      "Epoch 71: 1920/6335 Loss: 0.000366\n",
      "Epoch 71: 3840/6335 Loss: 0.000371\n",
      "Epoch 71: 5760/6335 Loss: 0.000659\n",
      "Epoch 72: 0/6335 Loss: 0.000302\n",
      "Epoch 72: 1920/6335 Loss: 0.000396\n",
      "Epoch 72: 3840/6335 Loss: 0.000309\n",
      "Epoch 72: 5760/6335 Loss: 0.000324\n",
      "Epoch 73: 0/6335 Loss: 0.000321\n",
      "Epoch 73: 1920/6335 Loss: 0.000443\n",
      "Epoch 73: 3840/6335 Loss: 0.000326\n",
      "Epoch 73: 5760/6335 Loss: 0.000301\n",
      "Epoch 74: 0/6335 Loss: 0.000388\n",
      "Epoch 74: 1920/6335 Loss: 0.000306\n",
      "Epoch 74: 3840/6335 Loss: 0.000309\n",
      "Epoch 74: 5760/6335 Loss: 0.000314\n",
      "Epoch 75: 0/6335 Loss: 0.000459\n",
      "Epoch 75: 1920/6335 Loss: 0.000234\n",
      "Epoch 75: 3840/6335 Loss: 0.000515\n",
      "Epoch 75: 5760/6335 Loss: 0.000501\n",
      "Epoch 76: 0/6335 Loss: 0.000381\n",
      "Epoch 76: 1920/6335 Loss: 0.000485\n",
      "Epoch 76: 3840/6335 Loss: 0.000339\n",
      "Epoch 76: 5760/6335 Loss: 0.000941\n",
      "Epoch 77: 0/6335 Loss: 0.001170\n",
      "Epoch 77: 1920/6335 Loss: 0.000412\n",
      "Epoch 77: 3840/6335 Loss: 0.000450\n",
      "Epoch 77: 5760/6335 Loss: 0.000728\n",
      "Epoch 78: 0/6335 Loss: 0.000469\n",
      "Epoch 78: 1920/6335 Loss: 0.000443\n",
      "Epoch 78: 3840/6335 Loss: 0.000464\n",
      "Epoch 78: 5760/6335 Loss: 0.000781\n",
      "Epoch 79: 0/6335 Loss: 0.000607\n",
      "Epoch 79: 1920/6335 Loss: 0.000287\n",
      "Epoch 79: 3840/6335 Loss: 0.000754\n",
      "Epoch 79: 5760/6335 Loss: 0.000319\n",
      "Epoch 80: 0/6335 Loss: 0.000210\n",
      "Epoch 80: 1920/6335 Loss: 0.000332\n",
      "Epoch 80: 3840/6335 Loss: 0.000656\n",
      "Epoch 80: 5760/6335 Loss: 0.000342\n",
      "Epoch 81: 0/6335 Loss: 0.000354\n",
      "Epoch 81: 1920/6335 Loss: 0.000308\n",
      "Epoch 81: 3840/6335 Loss: 0.000249\n",
      "Epoch 81: 5760/6335 Loss: 0.000367\n",
      "Epoch 82: 0/6335 Loss: 0.001466\n",
      "Epoch 82: 1920/6335 Loss: 0.000388\n",
      "Epoch 82: 3840/6335 Loss: 0.000389\n",
      "Epoch 82: 5760/6335 Loss: 0.000275\n",
      "Epoch 83: 0/6335 Loss: 0.000309\n",
      "Epoch 83: 1920/6335 Loss: 0.000278\n",
      "Epoch 83: 3840/6335 Loss: 0.000280\n",
      "Epoch 83: 5760/6335 Loss: 0.000474\n",
      "Epoch 84: 0/6335 Loss: 0.000583\n",
      "Epoch 84: 1920/6335 Loss: 0.000347\n",
      "Epoch 84: 3840/6335 Loss: 0.000316\n",
      "Epoch 84: 5760/6335 Loss: 0.000561\n",
      "Epoch 85: 0/6335 Loss: 0.000209\n",
      "Epoch 85: 1920/6335 Loss: 0.000436\n",
      "Epoch 85: 3840/6335 Loss: 0.000365\n",
      "Epoch 85: 5760/6335 Loss: 0.000355\n",
      "Epoch 86: 0/6335 Loss: 0.000325\n",
      "Epoch 86: 1920/6335 Loss: 0.000424\n",
      "Epoch 86: 3840/6335 Loss: 0.000315\n",
      "Epoch 86: 5760/6335 Loss: 0.000341\n",
      "Epoch 87: 0/6335 Loss: 0.000284\n",
      "Epoch 87: 1920/6335 Loss: 0.000469\n",
      "Epoch 87: 3840/6335 Loss: 0.000442\n",
      "Epoch 87: 5760/6335 Loss: 0.000354\n",
      "Epoch 88: 0/6335 Loss: 0.000347\n",
      "Epoch 88: 1920/6335 Loss: 0.000551\n",
      "Epoch 88: 3840/6335 Loss: 0.000326\n",
      "Epoch 88: 5760/6335 Loss: 0.000317\n",
      "Epoch 89: 0/6335 Loss: 0.000348\n",
      "Epoch 89: 1920/6335 Loss: 0.001538\n",
      "Epoch 89: 3840/6335 Loss: 0.000288\n",
      "Epoch 89: 5760/6335 Loss: 0.000505\n",
      "Epoch 90: 0/6335 Loss: 0.000265\n",
      "Epoch 90: 1920/6335 Loss: 0.000598\n",
      "Epoch 90: 3840/6335 Loss: 0.000358\n",
      "Epoch 90: 5760/6335 Loss: 0.000297\n",
      "Epoch 91: 0/6335 Loss: 0.000701\n",
      "Epoch 91: 1920/6335 Loss: 0.000267\n",
      "Epoch 91: 3840/6335 Loss: 0.000277\n",
      "Epoch 91: 5760/6335 Loss: 0.000392\n",
      "Epoch 92: 0/6335 Loss: 0.000758\n",
      "Epoch 92: 1920/6335 Loss: 0.000388\n",
      "Epoch 92: 3840/6335 Loss: 0.000620\n",
      "Epoch 92: 5760/6335 Loss: 0.000432\n",
      "Epoch 93: 0/6335 Loss: 0.000263\n",
      "Epoch 93: 1920/6335 Loss: 0.000228\n",
      "Epoch 93: 3840/6335 Loss: 0.000278\n",
      "Epoch 93: 5760/6335 Loss: 0.000515\n",
      "Epoch 94: 0/6335 Loss: 0.000339\n",
      "Epoch 94: 1920/6335 Loss: 0.000370\n",
      "Epoch 94: 3840/6335 Loss: 0.000507\n",
      "Epoch 94: 5760/6335 Loss: 0.000324\n",
      "Epoch 95: 0/6335 Loss: 0.000178\n",
      "Epoch 95: 1920/6335 Loss: 0.000304\n",
      "Epoch 95: 3840/6335 Loss: 0.000230\n",
      "Epoch 95: 5760/6335 Loss: 0.000274\n",
      "Epoch 96: 0/6335 Loss: 0.000416\n",
      "Epoch 96: 1920/6335 Loss: 0.000485\n",
      "Epoch 96: 3840/6335 Loss: 0.000469\n",
      "Epoch 96: 5760/6335 Loss: 0.009962\n",
      "Epoch 97: 0/6335 Loss: 0.000466\n",
      "Epoch 97: 1920/6335 Loss: 0.000316\n",
      "Epoch 97: 3840/6335 Loss: 0.001492\n",
      "Epoch 97: 5760/6335 Loss: 0.008419\n",
      "Epoch 98: 0/6335 Loss: 0.000411\n",
      "Epoch 98: 1920/6335 Loss: 0.000439\n",
      "Epoch 98: 3840/6335 Loss: 0.000370\n",
      "Epoch 98: 5760/6335 Loss: 0.000333\n",
      "Epoch 99: 0/6335 Loss: 0.000451\n",
      "Epoch 99: 1920/6335 Loss: 0.000441\n",
      "Epoch 99: 3840/6335 Loss: 0.000648\n",
      "Epoch 99: 5760/6335 Loss: 0.000257\n"
     ]
    }
   ],
   "source": [
    "for epoch in range(100):\n",
    "    train(epoch)"
   ]
  },
  {
   "cell_type": "code",
   "execution_count": 134,
   "id": "bae11c5e",
   "metadata": {
    "scrolled": true
   },
   "outputs": [
    {
     "data": {
      "text/plain": [
       "tensor([[[0.9373, 0.9294, 0.9294,  ..., 0.3255, 0.2784, 0.2275],\n",
       "         [0.9294, 0.9255, 0.9294,  ..., 0.3137, 0.3216, 0.2824],\n",
       "         [0.9255, 0.9216, 0.9137,  ..., 0.2980, 0.2941, 0.3255],\n",
       "         ...,\n",
       "         [0.0235, 0.3137, 0.4078,  ..., 0.5569, 0.5490, 0.4784],\n",
       "         [0.0118, 0.2627, 0.4078,  ..., 0.5647, 0.5333, 0.4667],\n",
       "         [0.0039, 0.2431, 0.4235,  ..., 0.5569, 0.5176, 0.4314]]])"
      ]
     },
     "execution_count": 134,
     "metadata": {},
     "output_type": "execute_result"
    }
   ],
   "source": [
    "train_dataset[0][0]"
   ]
  },
  {
   "cell_type": "code",
   "execution_count": 150,
   "id": "b61e196f",
   "metadata": {
    "scrolled": false
   },
   "outputs": [
    {
     "data": {
      "text/plain": [
       "tensor([[[ 0.6836,  0.0341,  0.1200],\n",
       "         [-0.0500, -0.0363, -0.1990]]], device='cuda:0')"
      ]
     },
     "execution_count": 150,
     "metadata": {},
     "output_type": "execute_result"
    },
    {
     "data": {
      "image/png": "[encoded data removed]",
      "text/plain": [
       "<Figure size 640x480 with 2 Axes>"
      ]
     },
     "metadata": {},
     "output_type": "display_data"
    }
   ],
   "source": [
    "fig, axs = plt.subplots(1, 2)\n",
    "with torch.no_grad():\n",
    "    model.eval()\n",
    "    test_idx = 7\n",
    "    test_val = train_dataset[test_idx][0].unsqueeze(0).to('cuda')\n",
    "    sample = model.stn(test_val)[0].cpu()\n",
    "    theta = model.theta(test_val)\n",
    "    theta = theta.view(-1, 2, 3)\n",
    "    grid = torch.nn.functional.affine_grid(theta, (theta.size(0), 1) + (24, 24))\n",
    "    coords = model(test_val)\n",
    "\n",
    "axs[0].imshow(sample.squeeze(), cmap='gray')\n",
    "axs[1].imshow(test_val.cpu().squeeze(), cmap='gray')\n",
    "axs[1].scatter(*coord_fix(coords).unsqueeze(-1).cpu(), marker='.')\n",
    "axs[1].scatter(*coord_fix(train_dataset[test_idx][1]).unsqueeze(-1).cpu(), marker='.', color='orange')\n",
    "theta"
   ]
  },
  {
   "cell_type": "code",
   "execution_count": 59,
   "id": "3aa2beb1",
   "metadata": {},
   "outputs": [
    {
     "data": {
      "text/plain": [
       "(tensor([[[0.9373, 0.9294, 0.9294,  ..., 0.3255, 0.2784, 0.2275],\n",
       "          [0.9294, 0.9255, 0.9294,  ..., 0.3137, 0.3216, 0.2824],\n",
       "          [0.9255, 0.9216, 0.9137,  ..., 0.2980, 0.2941, 0.3255],\n",
       "          ...,\n",
       "          [0.0235, 0.3137, 0.4078,  ..., 0.5569, 0.5490, 0.4784],\n",
       "          [0.0118, 0.2627, 0.4078,  ..., 0.5647, 0.5333, 0.4667],\n",
       "          [0.0039, 0.2431, 0.4235,  ..., 0.5569, 0.5176, 0.4314]]]),\n",
       " tensor([ 0.3947, -0.1944]))"
      ]
     },
     "execution_count": 59,
     "metadata": {},
     "output_type": "execute_result"
    }
   ],
   "source": [
    "train_dataset[0]"
   ]
  },
  {
   "cell_type": "code",
   "execution_count": 279,
   "id": "02cef5cb",
   "metadata": {
    "scrolled": true
   },
   "outputs": [],
   "source": [
    "t1 = model.theta(train_dataset[0][0].unsqueeze(0)).view(-1, 2, 3)"
   ]
  },
  {
   "cell_type": "code",
   "execution_count": 231,
   "id": "43585e3f",
   "metadata": {
    "scrolled": true
   },
   "outputs": [
    {
     "data": {
      "text/plain": [
       "torch.float32"
      ]
     },
     "execution_count": 231,
     "metadata": {},
     "output_type": "execute_result"
    }
   ],
   "source": [
    "model.theta[0].bias.data.dtype"
   ]
  },
  {
   "cell_type": "code",
   "execution_count": 253,
   "id": "0d351423",
   "metadata": {},
   "outputs": [],
   "source": [
    "t2 = torch.cat([t1, t1], dim=0)"
   ]
  },
  {
   "cell_type": "code",
   "execution_count": 254,
   "id": "df66d63a",
   "metadata": {},
   "outputs": [
    {
     "data": {
      "text/plain": [
       "tensor([[[1., 0., 0.],\n",
       "         [0., 1., 0.]]], device='cuda:0', grad_fn=<ViewBackward0>)"
      ]
     },
     "execution_count": 254,
     "metadata": {},
     "output_type": "execute_result"
    }
   ],
   "source": [
    "t1"
   ]
  },
  {
   "cell_type": "code",
   "execution_count": 261,
   "id": "e3b11648",
   "metadata": {
    "scrolled": true
   },
   "outputs": [
    {
     "data": {
      "text/plain": [
       "tensor([[[[-0.6667, -0.6667],\n",
       "          [ 0.0000, -0.6667],\n",
       "          [ 0.6667, -0.6667]],\n",
       "\n",
       "         [[-0.6667,  0.0000],\n",
       "          [ 0.0000,  0.0000],\n",
       "          [ 0.6667,  0.0000]],\n",
       "\n",
       "         [[-0.6667,  0.6667],\n",
       "          [ 0.0000,  0.6667],\n",
       "          [ 0.6667,  0.6667]]],\n",
       "\n",
       "\n",
       "        [[[-0.6667, -0.6667],\n",
       "          [ 0.0000, -0.6667],\n",
       "          [ 0.6667, -0.6667]],\n",
       "\n",
       "         [[-0.6667,  0.0000],\n",
       "          [ 0.0000,  0.0000],\n",
       "          [ 0.6667,  0.0000]],\n",
       "\n",
       "         [[-0.6667,  0.6667],\n",
       "          [ 0.0000,  0.6667],\n",
       "          [ 0.6667,  0.6667]]]], device='cuda:0',\n",
       "       grad_fn=<AffineGridGeneratorBackward0>)"
      ]
     },
     "execution_count": 261,
     "metadata": {},
     "output_type": "execute_result"
    }
   ],
   "source": [
    "torch.nn.functional.affine_grid(t2, (2, 1, 3, 3))"
   ]
  },
  {
   "cell_type": "code",
   "execution_count": null,
   "id": "e6312841",
   "metadata": {},
   "outputs": [],
   "source": []
  }
 ],
 "metadata": {
  "kernelspec": {
   "display_name": "Python 3 (ipykernel)",
   "language": "python",
   "name": "python3"
  },
  "language_info": {
   "codemirror_mode": {
    "name": "ipython",
    "version": 3
   },
   "file_extension": ".py",
   "mimetype": "text/x-python",
   "name": "python",
   "nbconvert_exporter": "python",
   "pygments_lexer": "ipython3",
   "version": "3.12.3"
  }
 },
 "nbformat": 4,
 "nbformat_minor": 5
}
