{
 "cells": [
  {
   "cell_type": "code",
   "execution_count": 1,
   "id": "f73a35e3",
   "metadata": {},
   "outputs": [],
   "source": [
    "import pandas as pd\n",
    "import numpy as np\n",
    "import torch\n",
    "import sklearn.model_selection\n",
    "import matplotlib.pyplot as plt\n",
    "import os\n",
    "import re"
   ]
  },
  {
   "cell_type": "code",
   "execution_count": 2,
   "id": "43748fe9",
   "metadata": {},
   "outputs": [],
   "source": [
    "device = torch.accelerator.current_accelerator() if torch.accelerator.is_available() else 'cpu'"
   ]
  },
  {
   "cell_type": "markdown",
   "id": "c7fc2ffc",
   "metadata": {},
   "source": [
    "Data was acquired from [this kaggle link](https://www.kaggle.com/competitions/facial-keypoints-detection)"
   ]
  },
  {
   "cell_type": "markdown",
   "id": "7720b17e",
   "metadata": {},
   "source": [
    "## Load the file"
   ]
  },
  {
   "cell_type": "code",
   "execution_count": 3,
   "id": "a4d24b27",
   "metadata": {},
   "outputs": [],
   "source": [
    "all_data = pd.read_csv('training.csv')"
   ]
  },
  {
   "cell_type": "code",
   "execution_count": 4,
   "id": "893eb24f",
   "metadata": {
    "scrolled": true
   },
   "outputs": [
    {
     "data": {
      "text/html": [
       "<div>\n",
       "<style scoped>\n",
       "    .dataframe tbody tr th:only-of-type {\n",
       "        vertical-align: middle;\n",
       "    }\n",
       "\n",
       "    .dataframe tbody tr th {\n",
       "        vertical-align: top;\n",
       "    }\n",
       "\n",
       "    .dataframe thead th {\n",
       "        text-align: right;\n",
       "    }\n",
       "</style>\n",
       "<table border=\"1\" class=\"dataframe\">\n",
       "  <thead>\n",
       "    <tr style=\"text-align: right;\">\n",
       "      <th></th>\n",
       "      <th>left_eye_center_x</th>\n",
       "      <th>left_eye_center_y</th>\n",
       "      <th>right_eye_center_x</th>\n",
       "      <th>right_eye_center_y</th>\n",
       "      <th>left_eye_inner_corner_x</th>\n",
       "      <th>left_eye_inner_corner_y</th>\n",
       "      <th>left_eye_outer_corner_x</th>\n",
       "      <th>left_eye_outer_corner_y</th>\n",
       "      <th>right_eye_inner_corner_x</th>\n",
       "      <th>right_eye_inner_corner_y</th>\n",
       "      <th>...</th>\n",
       "      <th>nose_tip_y</th>\n",
       "      <th>mouth_left_corner_x</th>\n",
       "      <th>mouth_left_corner_y</th>\n",
       "      <th>mouth_right_corner_x</th>\n",
       "      <th>mouth_right_corner_y</th>\n",
       "      <th>mouth_center_top_lip_x</th>\n",
       "      <th>mouth_center_top_lip_y</th>\n",
       "      <th>mouth_center_bottom_lip_x</th>\n",
       "      <th>mouth_center_bottom_lip_y</th>\n",
       "      <th>Image</th>\n",
       "    </tr>\n",
       "  </thead>\n",
       "  <tbody>\n",
       "    <tr>\n",
       "      <th>0</th>\n",
       "      <td>66.033564</td>\n",
       "      <td>39.002274</td>\n",
       "      <td>30.227008</td>\n",
       "      <td>36.421678</td>\n",
       "      <td>59.582075</td>\n",
       "      <td>39.647423</td>\n",
       "      <td>73.130346</td>\n",
       "      <td>39.969997</td>\n",
       "      <td>36.356571</td>\n",
       "      <td>37.389402</td>\n",
       "      <td>...</td>\n",
       "      <td>57.066803</td>\n",
       "      <td>61.195308</td>\n",
       "      <td>79.970165</td>\n",
       "      <td>28.614496</td>\n",
       "      <td>77.388992</td>\n",
       "      <td>43.312602</td>\n",
       "      <td>72.935459</td>\n",
       "      <td>43.130707</td>\n",
       "      <td>84.485774</td>\n",
       "      <td>238 236 237 238 240 240 239 241 241 243 240 23...</td>\n",
       "    </tr>\n",
       "    <tr>\n",
       "      <th>1</th>\n",
       "      <td>64.332936</td>\n",
       "      <td>34.970077</td>\n",
       "      <td>29.949277</td>\n",
       "      <td>33.448715</td>\n",
       "      <td>58.856170</td>\n",
       "      <td>35.274349</td>\n",
       "      <td>70.722723</td>\n",
       "      <td>36.187166</td>\n",
       "      <td>36.034723</td>\n",
       "      <td>34.361532</td>\n",
       "      <td>...</td>\n",
       "      <td>55.660936</td>\n",
       "      <td>56.421447</td>\n",
       "      <td>76.352000</td>\n",
       "      <td>35.122383</td>\n",
       "      <td>76.047660</td>\n",
       "      <td>46.684596</td>\n",
       "      <td>70.266553</td>\n",
       "      <td>45.467915</td>\n",
       "      <td>85.480170</td>\n",
       "      <td>219 215 204 196 204 211 212 200 180 168 178 19...</td>\n",
       "    </tr>\n",
       "    <tr>\n",
       "      <th>2</th>\n",
       "      <td>65.057053</td>\n",
       "      <td>34.909642</td>\n",
       "      <td>30.903789</td>\n",
       "      <td>34.909642</td>\n",
       "      <td>59.412000</td>\n",
       "      <td>36.320968</td>\n",
       "      <td>70.984421</td>\n",
       "      <td>36.320968</td>\n",
       "      <td>37.678105</td>\n",
       "      <td>36.320968</td>\n",
       "      <td>...</td>\n",
       "      <td>53.538947</td>\n",
       "      <td>60.822947</td>\n",
       "      <td>73.014316</td>\n",
       "      <td>33.726316</td>\n",
       "      <td>72.732000</td>\n",
       "      <td>47.274947</td>\n",
       "      <td>70.191789</td>\n",
       "      <td>47.274947</td>\n",
       "      <td>78.659368</td>\n",
       "      <td>144 142 159 180 188 188 184 180 167 132 84 59 ...</td>\n",
       "    </tr>\n",
       "    <tr>\n",
       "      <th>3</th>\n",
       "      <td>65.225739</td>\n",
       "      <td>37.261774</td>\n",
       "      <td>32.023096</td>\n",
       "      <td>37.261774</td>\n",
       "      <td>60.003339</td>\n",
       "      <td>39.127179</td>\n",
       "      <td>72.314713</td>\n",
       "      <td>38.380967</td>\n",
       "      <td>37.618643</td>\n",
       "      <td>38.754115</td>\n",
       "      <td>...</td>\n",
       "      <td>54.166539</td>\n",
       "      <td>65.598887</td>\n",
       "      <td>72.703722</td>\n",
       "      <td>37.245496</td>\n",
       "      <td>74.195478</td>\n",
       "      <td>50.303165</td>\n",
       "      <td>70.091687</td>\n",
       "      <td>51.561183</td>\n",
       "      <td>78.268383</td>\n",
       "      <td>193 192 193 194 194 194 193 192 168 111 50 12 ...</td>\n",
       "    </tr>\n",
       "    <tr>\n",
       "      <th>4</th>\n",
       "      <td>66.725301</td>\n",
       "      <td>39.621261</td>\n",
       "      <td>32.244810</td>\n",
       "      <td>38.042032</td>\n",
       "      <td>58.565890</td>\n",
       "      <td>39.621261</td>\n",
       "      <td>72.515926</td>\n",
       "      <td>39.884466</td>\n",
       "      <td>36.982380</td>\n",
       "      <td>39.094852</td>\n",
       "      <td>...</td>\n",
       "      <td>64.889521</td>\n",
       "      <td>60.671411</td>\n",
       "      <td>77.523239</td>\n",
       "      <td>31.191755</td>\n",
       "      <td>76.997301</td>\n",
       "      <td>44.962748</td>\n",
       "      <td>73.707387</td>\n",
       "      <td>44.227141</td>\n",
       "      <td>86.871166</td>\n",
       "      <td>147 148 160 196 215 214 216 217 219 220 206 18...</td>\n",
       "    </tr>\n",
       "    <tr>\n",
       "      <th>...</th>\n",
       "      <td>...</td>\n",
       "      <td>...</td>\n",
       "      <td>...</td>\n",
       "      <td>...</td>\n",
       "      <td>...</td>\n",
       "      <td>...</td>\n",
       "      <td>...</td>\n",
       "      <td>...</td>\n",
       "      <td>...</td>\n",
       "      <td>...</td>\n",
       "      <td>...</td>\n",
       "      <td>...</td>\n",
       "      <td>...</td>\n",
       "      <td>...</td>\n",
       "      <td>...</td>\n",
       "      <td>...</td>\n",
       "      <td>...</td>\n",
       "      <td>...</td>\n",
       "      <td>...</td>\n",
       "      <td>...</td>\n",
       "      <td>...</td>\n",
       "    </tr>\n",
       "    <tr>\n",
       "      <th>7044</th>\n",
       "      <td>67.402546</td>\n",
       "      <td>31.842551</td>\n",
       "      <td>29.746749</td>\n",
       "      <td>38.632942</td>\n",
       "      <td>NaN</td>\n",
       "      <td>NaN</td>\n",
       "      <td>NaN</td>\n",
       "      <td>NaN</td>\n",
       "      <td>NaN</td>\n",
       "      <td>NaN</td>\n",
       "      <td>...</td>\n",
       "      <td>67.029093</td>\n",
       "      <td>NaN</td>\n",
       "      <td>NaN</td>\n",
       "      <td>NaN</td>\n",
       "      <td>NaN</td>\n",
       "      <td>NaN</td>\n",
       "      <td>NaN</td>\n",
       "      <td>50.426637</td>\n",
       "      <td>79.683921</td>\n",
       "      <td>71 74 85 105 116 128 139 150 170 187 201 209 2...</td>\n",
       "    </tr>\n",
       "    <tr>\n",
       "      <th>7045</th>\n",
       "      <td>66.134400</td>\n",
       "      <td>38.365501</td>\n",
       "      <td>30.478626</td>\n",
       "      <td>39.950198</td>\n",
       "      <td>NaN</td>\n",
       "      <td>NaN</td>\n",
       "      <td>NaN</td>\n",
       "      <td>NaN</td>\n",
       "      <td>NaN</td>\n",
       "      <td>NaN</td>\n",
       "      <td>...</td>\n",
       "      <td>66.626011</td>\n",
       "      <td>NaN</td>\n",
       "      <td>NaN</td>\n",
       "      <td>NaN</td>\n",
       "      <td>NaN</td>\n",
       "      <td>NaN</td>\n",
       "      <td>NaN</td>\n",
       "      <td>50.287397</td>\n",
       "      <td>77.983023</td>\n",
       "      <td>60 60 62 57 55 51 49 48 50 53 56 56 106 89 77 ...</td>\n",
       "    </tr>\n",
       "    <tr>\n",
       "      <th>7046</th>\n",
       "      <td>66.690732</td>\n",
       "      <td>36.845221</td>\n",
       "      <td>31.666420</td>\n",
       "      <td>39.685042</td>\n",
       "      <td>NaN</td>\n",
       "      <td>NaN</td>\n",
       "      <td>NaN</td>\n",
       "      <td>NaN</td>\n",
       "      <td>NaN</td>\n",
       "      <td>NaN</td>\n",
       "      <td>...</td>\n",
       "      <td>67.515161</td>\n",
       "      <td>NaN</td>\n",
       "      <td>NaN</td>\n",
       "      <td>NaN</td>\n",
       "      <td>NaN</td>\n",
       "      <td>NaN</td>\n",
       "      <td>NaN</td>\n",
       "      <td>49.462572</td>\n",
       "      <td>78.117120</td>\n",
       "      <td>74 74 74 78 79 79 79 81 77 78 80 73 72 81 77 1...</td>\n",
       "    </tr>\n",
       "    <tr>\n",
       "      <th>7047</th>\n",
       "      <td>70.965082</td>\n",
       "      <td>39.853666</td>\n",
       "      <td>30.543285</td>\n",
       "      <td>40.772339</td>\n",
       "      <td>NaN</td>\n",
       "      <td>NaN</td>\n",
       "      <td>NaN</td>\n",
       "      <td>NaN</td>\n",
       "      <td>NaN</td>\n",
       "      <td>NaN</td>\n",
       "      <td>...</td>\n",
       "      <td>66.724988</td>\n",
       "      <td>NaN</td>\n",
       "      <td>NaN</td>\n",
       "      <td>NaN</td>\n",
       "      <td>NaN</td>\n",
       "      <td>NaN</td>\n",
       "      <td>NaN</td>\n",
       "      <td>50.065186</td>\n",
       "      <td>79.586447</td>\n",
       "      <td>254 254 254 254 254 238 193 145 121 118 119 10...</td>\n",
       "    </tr>\n",
       "    <tr>\n",
       "      <th>7048</th>\n",
       "      <td>66.938311</td>\n",
       "      <td>43.424510</td>\n",
       "      <td>31.096059</td>\n",
       "      <td>39.528604</td>\n",
       "      <td>NaN</td>\n",
       "      <td>NaN</td>\n",
       "      <td>NaN</td>\n",
       "      <td>NaN</td>\n",
       "      <td>NaN</td>\n",
       "      <td>NaN</td>\n",
       "      <td>...</td>\n",
       "      <td>73.033339</td>\n",
       "      <td>NaN</td>\n",
       "      <td>NaN</td>\n",
       "      <td>NaN</td>\n",
       "      <td>NaN</td>\n",
       "      <td>NaN</td>\n",
       "      <td>NaN</td>\n",
       "      <td>45.900480</td>\n",
       "      <td>82.773096</td>\n",
       "      <td>53 62 67 76 86 91 97 105 105 106 107 108 112 1...</td>\n",
       "    </tr>\n",
       "  </tbody>\n",
       "</table>\n",
       "<p>7049 rows × 31 columns</p>\n",
       "</div>"
      ],
      "text/plain": [
       "      left_eye_center_x  left_eye_center_y  right_eye_center_x  \\\n",
       "0             66.033564          39.002274           30.227008   \n",
       "1             64.332936          34.970077           29.949277   \n",
       "2             65.057053          34.909642           30.903789   \n",
       "3             65.225739          37.261774           32.023096   \n",
       "4             66.725301          39.621261           32.244810   \n",
       "...                 ...                ...                 ...   \n",
       "7044          67.402546          31.842551           29.746749   \n",
       "7045          66.134400          38.365501           30.478626   \n",
       "7046          66.690732          36.845221           31.666420   \n",
       "7047          70.965082          39.853666           30.543285   \n",
       "7048          66.938311          43.424510           31.096059   \n",
       "\n",
       "      right_eye_center_y  left_eye_inner_corner_x  left_eye_inner_corner_y  \\\n",
       "0              36.421678                59.582075                39.647423   \n",
       "1              33.448715                58.856170                35.274349   \n",
       "2              34.909642                59.412000                36.320968   \n",
       "3              37.261774                60.003339                39.127179   \n",
       "4              38.042032                58.565890                39.621261   \n",
       "...                  ...                      ...                      ...   \n",
       "7044           38.632942                      NaN                      NaN   \n",
       "7045           39.950198                      NaN                      NaN   \n",
       "7046           39.685042                      NaN                      NaN   \n",
       "7047           40.772339                      NaN                      NaN   \n",
       "7048           39.528604                      NaN                      NaN   \n",
       "\n",
       "      left_eye_outer_corner_x  left_eye_outer_corner_y  \\\n",
       "0                   73.130346                39.969997   \n",
       "1                   70.722723                36.187166   \n",
       "2                   70.984421                36.320968   \n",
       "3                   72.314713                38.380967   \n",
       "4                   72.515926                39.884466   \n",
       "...                       ...                      ...   \n",
       "7044                      NaN                      NaN   \n",
       "7045                      NaN                      NaN   \n",
       "7046                      NaN                      NaN   \n",
       "7047                      NaN                      NaN   \n",
       "7048                      NaN                      NaN   \n",
       "\n",
       "      right_eye_inner_corner_x  right_eye_inner_corner_y  ...  nose_tip_y  \\\n",
       "0                    36.356571                 37.389402  ...   57.066803   \n",
       "1                    36.034723                 34.361532  ...   55.660936   \n",
       "2                    37.678105                 36.320968  ...   53.538947   \n",
       "3                    37.618643                 38.754115  ...   54.166539   \n",
       "4                    36.982380                 39.094852  ...   64.889521   \n",
       "...                        ...                       ...  ...         ...   \n",
       "7044                       NaN                       NaN  ...   67.029093   \n",
       "7045                       NaN                       NaN  ...   66.626011   \n",
       "7046                       NaN                       NaN  ...   67.515161   \n",
       "7047                       NaN                       NaN  ...   66.724988   \n",
       "7048                       NaN                       NaN  ...   73.033339   \n",
       "\n",
       "      mouth_left_corner_x  mouth_left_corner_y  mouth_right_corner_x  \\\n",
       "0               61.195308            79.970165             28.614496   \n",
       "1               56.421447            76.352000             35.122383   \n",
       "2               60.822947            73.014316             33.726316   \n",
       "3               65.598887            72.703722             37.245496   \n",
       "4               60.671411            77.523239             31.191755   \n",
       "...                   ...                  ...                   ...   \n",
       "7044                  NaN                  NaN                   NaN   \n",
       "7045                  NaN                  NaN                   NaN   \n",
       "7046                  NaN                  NaN                   NaN   \n",
       "7047                  NaN                  NaN                   NaN   \n",
       "7048                  NaN                  NaN                   NaN   \n",
       "\n",
       "      mouth_right_corner_y  mouth_center_top_lip_x  mouth_center_top_lip_y  \\\n",
       "0                77.388992               43.312602               72.935459   \n",
       "1                76.047660               46.684596               70.266553   \n",
       "2                72.732000               47.274947               70.191789   \n",
       "3                74.195478               50.303165               70.091687   \n",
       "4                76.997301               44.962748               73.707387   \n",
       "...                    ...                     ...                     ...   \n",
       "7044                   NaN                     NaN                     NaN   \n",
       "7045                   NaN                     NaN                     NaN   \n",
       "7046                   NaN                     NaN                     NaN   \n",
       "7047                   NaN                     NaN                     NaN   \n",
       "7048                   NaN                     NaN                     NaN   \n",
       "\n",
       "      mouth_center_bottom_lip_x  mouth_center_bottom_lip_y  \\\n",
       "0                     43.130707                  84.485774   \n",
       "1                     45.467915                  85.480170   \n",
       "2                     47.274947                  78.659368   \n",
       "3                     51.561183                  78.268383   \n",
       "4                     44.227141                  86.871166   \n",
       "...                         ...                        ...   \n",
       "7044                  50.426637                  79.683921   \n",
       "7045                  50.287397                  77.983023   \n",
       "7046                  49.462572                  78.117120   \n",
       "7047                  50.065186                  79.586447   \n",
       "7048                  45.900480                  82.773096   \n",
       "\n",
       "                                                  Image  \n",
       "0     238 236 237 238 240 240 239 241 241 243 240 23...  \n",
       "1     219 215 204 196 204 211 212 200 180 168 178 19...  \n",
       "2     144 142 159 180 188 188 184 180 167 132 84 59 ...  \n",
       "3     193 192 193 194 194 194 193 192 168 111 50 12 ...  \n",
       "4     147 148 160 196 215 214 216 217 219 220 206 18...  \n",
       "...                                                 ...  \n",
       "7044  71 74 85 105 116 128 139 150 170 187 201 209 2...  \n",
       "7045  60 60 62 57 55 51 49 48 50 53 56 56 106 89 77 ...  \n",
       "7046  74 74 74 78 79 79 79 81 77 78 80 73 72 81 77 1...  \n",
       "7047  254 254 254 254 254 238 193 145 121 118 119 10...  \n",
       "7048  53 62 67 76 86 91 97 105 105 106 107 108 112 1...  \n",
       "\n",
       "[7049 rows x 31 columns]"
      ]
     },
     "execution_count": 4,
     "metadata": {},
     "output_type": "execute_result"
    }
   ],
   "source": [
    "all_data"
   ]
  },
  {
   "cell_type": "code",
   "execution_count": 5,
   "id": "9651fed4",
   "metadata": {},
   "outputs": [
    {
     "data": {
      "text/plain": [
       "(2140, 31)"
      ]
     },
     "execution_count": 5,
     "metadata": {},
     "output_type": "execute_result"
    }
   ],
   "source": [
    "all_data.dropna().shape  # lots of NaNs"
   ]
  },
  {
   "cell_type": "code",
   "execution_count": 6,
   "id": "e4138897",
   "metadata": {},
   "outputs": [
    {
     "data": {
      "text/plain": [
       "30"
      ]
     },
     "execution_count": 6,
     "metadata": {},
     "output_type": "execute_result"
    }
   ],
   "source": [
    "len(all_data.columns) - 1  # number of features except Image"
   ]
  },
  {
   "cell_type": "markdown",
   "id": "09dcdf93",
   "metadata": {},
   "source": [
    "30 total dimentions. This means 15 2D points. 6 for eyes (3 for each eye), 4 for eyebrows (2 each), 1 for nose, 2 for mouth corner, 2 for lip centers."
   ]
  },
  {
   "cell_type": "code",
   "execution_count": 7,
   "id": "10ff97a8",
   "metadata": {},
   "outputs": [
    {
     "data": {
      "text/plain": [
       "Index(['left_eye_center_x', 'left_eye_center_y', 'right_eye_center_x',\n",
       "       'right_eye_center_y', 'left_eye_inner_corner_x',\n",
       "       'left_eye_inner_corner_y', 'left_eye_outer_corner_x',\n",
       "       'left_eye_outer_corner_y', 'right_eye_inner_corner_x',\n",
       "       'right_eye_inner_corner_y', 'right_eye_outer_corner_x',\n",
       "       'right_eye_outer_corner_y', 'left_eyebrow_inner_end_x',\n",
       "       'left_eyebrow_inner_end_y', 'left_eyebrow_outer_end_x',\n",
       "       'left_eyebrow_outer_end_y', 'right_eyebrow_inner_end_x',\n",
       "       'right_eyebrow_inner_end_y', 'right_eyebrow_outer_end_x',\n",
       "       'right_eyebrow_outer_end_y', 'nose_tip_x', 'nose_tip_y',\n",
       "       'mouth_left_corner_x', 'mouth_left_corner_y', 'mouth_right_corner_x',\n",
       "       'mouth_right_corner_y', 'mouth_center_top_lip_x',\n",
       "       'mouth_center_top_lip_y', 'mouth_center_bottom_lip_x',\n",
       "       'mouth_center_bottom_lip_y', 'Image'],\n",
       "      dtype='object')"
      ]
     },
     "execution_count": 7,
     "metadata": {},
     "output_type": "execute_result"
    }
   ],
   "source": [
    "all_data.columns"
   ]
  },
  {
   "cell_type": "markdown",
   "id": "bc8afa17",
   "metadata": {},
   "source": [
    "For now, lets just not worry about all the NaNs and just work with a column thats not too bad."
   ]
  },
  {
   "cell_type": "code",
   "execution_count": 8,
   "id": "4ef3843b",
   "metadata": {
    "scrolled": false
   },
   "outputs": [
    {
     "data": {
      "text/plain": [
       "True"
      ]
     },
     "execution_count": 8,
     "metadata": {},
     "output_type": "execute_result"
    }
   ],
   "source": [
    "np.any(np.isnan(all_data['left_eye_center_x'].array))"
   ]
  },
  {
   "cell_type": "code",
   "execution_count": 9,
   "id": "041757e7",
   "metadata": {},
   "outputs": [
    {
     "data": {
      "text/plain": [
       "0       False\n",
       "1       False\n",
       "2       False\n",
       "3       False\n",
       "4       False\n",
       "        ...  \n",
       "7044    False\n",
       "7045    False\n",
       "7046    False\n",
       "7047    False\n",
       "7048    False\n",
       "Name: left_eye_center_x, Length: 7049, dtype: bool"
      ]
     },
     "execution_count": 9,
     "metadata": {},
     "output_type": "execute_result"
    }
   ],
   "source": [
    "pd.isna(all_data['left_eye_center_x'])"
   ]
  },
  {
   "cell_type": "code",
   "execution_count": 10,
   "id": "158ac1ea",
   "metadata": {},
   "outputs": [],
   "source": [
    "all_data = all_data[~(pd.isna(all_data['left_eye_center_x']) | pd.isna(all_data['left_eye_center_y']))].reset_index(drop=True)"
   ]
  },
  {
   "cell_type": "markdown",
   "id": "9c716c49",
   "metadata": {},
   "source": [
    "## Split the data into train and test"
   ]
  },
  {
   "cell_type": "code",
   "execution_count": 11,
   "id": "a134be4c",
   "metadata": {},
   "outputs": [],
   "source": [
    "test_fraction = 0.1\n",
    "test_index = int((1-test_fraction)*len(all_data))\n",
    "train_data, test_data = all_data[:test_index], all_data[test_index:]"
   ]
  },
  {
   "cell_type": "code",
   "execution_count": 12,
   "id": "a1355230",
   "metadata": {
    "scrolled": true
   },
   "outputs": [
    {
     "data": {
      "text/plain": [
       "(6335, 704)"
      ]
     },
     "execution_count": 12,
     "metadata": {},
     "output_type": "execute_result"
    }
   ],
   "source": [
    "len(train_data), len(test_data)"
   ]
  },
  {
   "cell_type": "code",
   "execution_count": 13,
   "id": "3b38582d",
   "metadata": {
    "scrolled": true
   },
   "outputs": [],
   "source": [
    "train_data, test_data = sklearn.model_selection.train_test_split(all_data, test_size=0.1)"
   ]
  },
  {
   "cell_type": "code",
   "execution_count": 14,
   "id": "7798595a",
   "metadata": {},
   "outputs": [],
   "source": [
    "train_data = train_data.reset_index(drop=True)\n",
    "test_data = test_data.reset_index(drop=True)"
   ]
  },
  {
   "cell_type": "code",
   "execution_count": 15,
   "id": "d55a6286",
   "metadata": {
    "scrolled": true
   },
   "outputs": [
    {
     "data": {
      "text/plain": [
       "[6335, 704]"
      ]
     },
     "execution_count": 15,
     "metadata": {},
     "output_type": "execute_result"
    }
   ],
   "source": [
    "list(map(len, (train_data, test_data)))"
   ]
  },
  {
   "cell_type": "markdown",
   "id": "4de94263",
   "metadata": {},
   "source": [
    "## Preprocces the data"
   ]
  },
  {
   "cell_type": "code",
   "execution_count": 16,
   "id": "059e04c5",
   "metadata": {},
   "outputs": [
    {
     "data": {
      "text/plain": [
       "<matplotlib.collections.PathCollection at 0x736aa3b5fec0>"
      ]
     },
     "execution_count": 16,
     "metadata": {},
     "output_type": "execute_result"
    },
    {
     "data": {
      "image/png": "[encoded data removed]",
      "text/plain": [
       "<Figure size 640x480 with 1 Axes>"
      ]
     },
     "metadata": {},
     "output_type": "display_data"
    }
   ],
   "source": [
    "idx = 0\n",
    "plt.imshow(np.array(list(map(int, train_data.at[idx, 'Image'].split()))).reshape((96, 96)), cmap='gray')\n",
    "plt.scatter([train_data.at[idx, 'left_eye_center_x']], [train_data.at[idx, 'left_eye_center_y']])"
   ]
  },
  {
   "cell_type": "markdown",
   "id": "23f08b13",
   "metadata": {},
   "source": [
    "### Create a torch Dataset class"
   ]
  },
  {
   "cell_type": "code",
   "execution_count": 17,
   "id": "b9a9c9ec",
   "metadata": {},
   "outputs": [],
   "source": [
    "class IntStrFaces(torch.utils.data.Dataset):\n",
    "    SHAPE = (96, 96)\n",
    "    \n",
    "    def __init__(self, df, transform=None, target_transform=None, point_name='left_eye_center'):\n",
    "        self.df = df\n",
    "        self.transform = transform\n",
    "        self.target_transform = target_transform\n",
    "        self.point_name = point_name\n",
    "    \n",
    "    def __len__(self):\n",
    "        return len(self.df)\n",
    "    \n",
    "    def __getitem__(self, idx):\n",
    "        image = map(int, self.df.at[idx, 'Image'].split())\n",
    "        image = np.array(list(image)).reshape(self.SHAPE)\n",
    "        if self.transform:\n",
    "            image = self.transform(image)\n",
    "            \n",
    "        label = np.array(self.df.iloc[idx][self.point_name + '_x':self.point_name + '_y'], dtype=float)\n",
    "        if self.target_transform:\n",
    "            label = self.target_transform(label)\n",
    "        \n",
    "        return image, label"
   ]
  },
  {
   "cell_type": "code",
   "execution_count": 18,
   "id": "0eef4172",
   "metadata": {
    "scrolled": true
   },
   "outputs": [
    {
     "data": {
      "text/plain": [
       "array([64.33293617, 34.9700766 ])"
      ]
     },
     "execution_count": 18,
     "metadata": {},
     "output_type": "execute_result"
    }
   ],
   "source": [
    "np.array(all_data.iloc[1]['left_eye_center_x':'left_eye_center_y'], dtype=float)"
   ]
  },
  {
   "cell_type": "markdown",
   "id": "a4bfed59",
   "metadata": {},
   "source": [
    "We want coordinates to be in the interval [-1, 1]."
   ]
  },
  {
   "cell_type": "code",
   "execution_count": 19,
   "id": "71a728d4",
   "metadata": {},
   "outputs": [],
   "source": [
    "coord_transform = lambda v: 2 * v / 96 - 1\n",
    "coord_fix = lambda u: (u + 1) * 96 / 2"
   ]
  },
  {
   "cell_type": "code",
   "execution_count": 20,
   "id": "bd475c06",
   "metadata": {},
   "outputs": [],
   "source": [
    "train_dataset = IntStrFaces(\n",
    "    train_data, \n",
    "    transform=lambda arr: torch.tensor(arr/255, dtype=torch.float32).unsqueeze(0),\n",
    "    target_transform=lambda arr: torch.tensor(coord_transform(arr), dtype=torch.float32)\n",
    ")\n",
    "test_dataset = IntStrFaces(\n",
    "    test_data,\n",
    "    transform=lambda arr: torch.tensor(arr/255, dtype=torch.float32).unsqueeze(0),\n",
    "    target_transform=lambda arr: torch.tensor(coord_transform(arr), dtype=torch.float32)\n",
    ")"
   ]
  },
  {
   "cell_type": "code",
   "execution_count": 21,
   "id": "3ad46adb",
   "metadata": {
    "scrolled": true
   },
   "outputs": [
    {
     "data": {
      "text/plain": [
       "(tensor([[[0.4941, 0.4941, 0.5451,  ..., 0.6667, 0.6784, 0.6784],\n",
       "          [0.5098, 0.4941, 0.5137,  ..., 0.6745, 0.6824, 0.6824],\n",
       "          [0.5098, 0.4941, 0.4667,  ..., 0.6784, 0.6863, 0.6824],\n",
       "          ...,\n",
       "          [0.1373, 0.1608, 0.2039,  ..., 0.6784, 0.6902, 0.6706],\n",
       "          [0.1804, 0.1922, 0.2078,  ..., 0.6510, 0.6235, 0.6627],\n",
       "          [0.2000, 0.2039, 0.2000,  ..., 0.7176, 0.7294, 0.6941]]]),\n",
       " tensor([ 0.3761, -0.1942]))"
      ]
     },
     "execution_count": 21,
     "metadata": {},
     "output_type": "execute_result"
    }
   ],
   "source": [
    "train_dataset[0]"
   ]
  },
  {
   "cell_type": "markdown",
   "id": "7c5d7ba3",
   "metadata": {},
   "source": [
    "# Let's try a Spatial Transformer\n",
    "We want to do a one hot approach, but this has a severe lack in presicion. We can make up for this by resampling only in the relevant area, then inverting the position through the resampler."
   ]
  },
  {
   "cell_type": "code",
   "execution_count": 55,
   "id": "193657df",
   "metadata": {},
   "outputs": [],
   "source": [
    "# Attempt 1\n",
    "class Net(torch.nn.Module):\n",
    "    def __init__(self):\n",
    "        super().__init__()\n",
    "        \n",
    "        # theta determines where to grid sample the image\n",
    "        self.theta = torch.nn.Sequential(\n",
    "            # shape (n, 1, 96, 96)\n",
    "            \n",
    "            torch.nn.Conv2d(1, 8, kernel_size=17),\n",
    "            # shape (n, 8, 80, 80)\n",
    "            torch.nn.MaxPool2d(2),\n",
    "            # shape (n, 8, 40, 40)\n",
    "            torch.nn.ReLU(True),\n",
    "            \n",
    "            torch.nn.Conv2d(8, 12, kernel_size=11),\n",
    "            # shape (n, 12, 30, 30)\n",
    "            torch.nn.MaxPool2d(2),\n",
    "            # shape (n, 12, 15, 15)\n",
    "            torch.nn.ReLU(True),\n",
    "            \n",
    "            torch.nn.Conv2d(12, 14, kernel_size=6),\n",
    "            # shape (n, 14, 10, 10)\n",
    "            torch.nn.MaxPool2d(2),\n",
    "            # shape (n, 14, 5, 5)\n",
    "            torch.nn.ReLU(True),\n",
    "            \n",
    "            torch.nn.Flatten(),\n",
    "            \n",
    "            torch.nn.Linear(14 * 5 * 5, 64),\n",
    "            torch.nn.ReLU(),\n",
    "            \n",
    "            torch.nn.Linear(64, 6)\n",
    "        )\n",
    "        \n",
    "        # we feed the sample to the main net\n",
    "        self.main_net = torch.nn.Sequential(\n",
    "            # 2 convolution layers\n",
    "            # shape (n, 1, 24, 24)\n",
    "            torch.nn.Conv2d(1, 6, kernel_size=9),\n",
    "            # shape (n, 6, 16, 16)\n",
    "            torch.nn.MaxPool2d(2),\n",
    "            # shape (n, 6, 8, 8)\n",
    "            torch.nn.ReLU(True),\n",
    "            torch.nn.Conv2d(6, 12, kernel_size=5),\n",
    "            # shape (n, 12, 4, 4)\n",
    "            torch.nn.Dropout2d(p=0.8),\n",
    "            torch.nn.MaxPool2d(2),\n",
    "            # shape (n, 12, 2, 2)\n",
    "            torch.nn.ReLU(True),\n",
    "            torch.nn.Flatten(),\n",
    "            torch.nn.Linear(12 * 2 * 2, 10),\n",
    "            torch.nn.ReLU(True),\n",
    "            torch.nn.Dropout(p=0.8),\n",
    "            torch.nn.Linear(10, 2)\n",
    "        )\n",
    "        \n",
    "        # we want the grid sample transformation to start as the identity\n",
    "        self.theta[-1].weight.data.zero_()\n",
    "        self.theta[-1].bias.data.copy_(torch.tensor([1, 0, 0, 0, 1, 0], dtype=float))\n",
    "    \n",
    "    def stn(self, x):\n",
    "        SIZE = (24, 24)\n",
    "        theta = self.theta(x)\n",
    "        theta = theta.view(-1, 2, 3)\n",
    "        grid = torch.nn.functional.affine_grid(theta, (theta.size(0), 1) + SIZE)\n",
    "        # theta = torch.cat([theta, torch.tensor([[[0, 0, 1]]])], dim=1)\n",
    "        sample = torch.nn.functional.grid_sample(x, grid)\n",
    "        return sample, theta\n",
    "    \n",
    "    def forward(self, x):\n",
    "        sample, theta = self.stn(x)\n",
    "        local_coords = self.main_net(sample)\n",
    "        \n",
    "        local_coords = torch.cat([local_coords, torch.ones(local_coords.size(0), 1, device=local_coords.device)], dim=1)\n",
    "        \n",
    "        # row = torch.tensor([[0, 0, 1]], device=local_coords.device).expand(local_coords.size(0), -1, -1)\n",
    "        # theta = torch.cat([theta, row], dim=1)\n",
    "        # theta_inv = torch.linalg.inv(theta)[:, :2, :]\n",
    "        \n",
    "        # coords = torch.bmm(local_coords.unsqueeze(1), theta_inv.mT).squeeze()\n",
    "        \n",
    "        coords = torch.bmm(local_coords.unsqueeze(1), theta.mT).squeeze()\n",
    "        \n",
    "        return coords"
   ]
  },
  {
   "cell_type": "code",
   "execution_count": 56,
   "id": "0869395e",
   "metadata": {
    "scrolled": false
   },
   "outputs": [
    {
     "data": {
      "text/plain": [
       "tensor([[[[-1.3333, -1.3333],\n",
       "          [ 0.0000, -1.3333],\n",
       "          [ 1.3333, -1.3333]],\n",
       "\n",
       "         [[-1.3333,  0.0000],\n",
       "          [ 0.0000,  0.0000],\n",
       "          [ 1.3333,  0.0000]],\n",
       "\n",
       "         [[-1.3333,  1.3333],\n",
       "          [ 0.0000,  1.3333],\n",
       "          [ 1.3333,  1.3333]]]], dtype=torch.float64)"
      ]
     },
     "execution_count": 56,
     "metadata": {},
     "output_type": "execute_result"
    }
   ],
   "source": [
    "torch.nn.functional.affine_grid(torch.tensor([[[2, 0, 0], [0, 2, 0]]], dtype=float), (1, 1, 3, 3))"
   ]
  },
  {
   "cell_type": "code",
   "execution_count": 57,
   "id": "b01a49a2",
   "metadata": {},
   "outputs": [
    {
     "data": {
      "text/plain": [
       "tensor([[[ 0.5000, -0.2500,  0.0000],\n",
       "         [ 0.0000,  0.5000,  0.0000]]], dtype=torch.float64)"
      ]
     },
     "execution_count": 57,
     "metadata": {},
     "output_type": "execute_result"
    }
   ],
   "source": [
    "theta = torch.tensor([[[2, 1, 0], [0, 2, 0]]], dtype=float)\n",
    "row = torch.tensor([[[0, 0, 1]]])\n",
    "theta = torch.cat([theta, row], dim=1)\n",
    "torch.linalg.inv(theta)[:, :2, :]"
   ]
  },
  {
   "cell_type": "code",
   "execution_count": 58,
   "id": "547b1ce9",
   "metadata": {},
   "outputs": [
    {
     "data": {
      "text/plain": [
       "tensor([[-0.6667, -0.6667]], dtype=torch.float64)"
      ]
     },
     "execution_count": 58,
     "metadata": {},
     "output_type": "execute_result"
    }
   ],
   "source": [
    "theta = torch.tensor([[[2, 1, 0], [0, 2, 0]]], dtype=float)\n",
    "theta_inv = torch.linalg.inv(torch.cat([theta, row], dim=1))[:, :2, :]\n",
    "torch.cat([torch.nn.functional.affine_grid(theta, (1, 1, 3, 3))[0, 0, 0], torch.tensor([1])]) @ theta_inv.mT"
   ]
  },
  {
   "cell_type": "code",
   "execution_count": 59,
   "id": "304e260d",
   "metadata": {},
   "outputs": [],
   "source": [
    "v = torch.arange(10).reshape(5, 2).to(float)"
   ]
  },
  {
   "cell_type": "code",
   "execution_count": 60,
   "id": "d693414f",
   "metadata": {},
   "outputs": [],
   "source": [
    "M = torch.tensor([[[1, 0], [1, 2]] for _ in range(5)], dtype=float)"
   ]
  },
  {
   "cell_type": "code",
   "execution_count": 61,
   "id": "514f9a60",
   "metadata": {
    "scrolled": true
   },
   "outputs": [
    {
     "data": {
      "text/plain": [
       "tensor([[[ 0.,  2.]],\n",
       "\n",
       "        [[ 2.,  8.]],\n",
       "\n",
       "        [[ 4., 14.]],\n",
       "\n",
       "        [[ 6., 20.]],\n",
       "\n",
       "        [[ 8., 26.]]], dtype=torch.float64)"
      ]
     },
     "execution_count": 61,
     "metadata": {},
     "output_type": "execute_result"
    }
   ],
   "source": [
    "torch.bmm(v.unsqueeze(1), M.mT)"
   ]
  },
  {
   "cell_type": "code",
   "execution_count": 62,
   "id": "16205d91",
   "metadata": {},
   "outputs": [
    {
     "data": {
      "text/plain": [
       "tensor([[0., 1., 1.],\n",
       "        [2., 3., 1.],\n",
       "        [4., 5., 1.],\n",
       "        [6., 7., 1.],\n",
       "        [8., 9., 1.]], dtype=torch.float64)"
      ]
     },
     "execution_count": 62,
     "metadata": {},
     "output_type": "execute_result"
    }
   ],
   "source": [
    "torch.cat([v, torch.ones(v.size(0), 1)], dim=1)"
   ]
  },
  {
   "cell_type": "markdown",
   "id": "0d52bf59",
   "metadata": {},
   "source": [
    "## Now lets train the model"
   ]
  },
  {
   "cell_type": "code",
   "execution_count": 63,
   "id": "563f145d",
   "metadata": {},
   "outputs": [],
   "source": [
    "train_dataloader = torch.utils.data.DataLoader(\n",
    "    train_dataset,\n",
    "    batch_size=32,\n",
    "    shuffle=True,\n",
    "    num_workers=4\n",
    ")\n",
    "\n",
    "test_dataloader = torch.utils.data.DataLoader(\n",
    "    test_dataset,\n",
    "    batch_size=32,\n",
    "    shuffle=True,\n",
    "    num_workers=4\n",
    ")"
   ]
  },
  {
   "cell_type": "code",
   "execution_count": 64,
   "id": "1d1864d8",
   "metadata": {},
   "outputs": [],
   "source": [
    "loss_fn = torch.nn.functional.mse_loss"
   ]
  },
  {
   "cell_type": "code",
   "execution_count": 65,
   "id": "9c158f2c",
   "metadata": {},
   "outputs": [],
   "source": [
    "model = Net().to('cuda')\n",
    "optimizer = torch.optim.Adam(model.parameters())\n",
    "\n",
    "def train(epoch, report_freq=100):\n",
    "    model.train()\n",
    "    total_loss = 0\n",
    "    for batch_idx, (data, target) in enumerate(train_dataloader):\n",
    "        data, target = data.to('cuda'), target.to('cuda')\n",
    "        optimizer.zero_grad()\n",
    "        output = model(data)\n",
    "        loss = torch.nn.functional.mse_loss(output, target)\n",
    "        loss.backward()\n",
    "        optimizer.step()\n",
    "        total_loss += loss.item()\n",
    "        if batch_idx % report_freq == report_freq - 1:\n",
    "            print(f'Epoch {epoch}: {batch_idx*len(data)}/{len(train_dataloader.dataset)} Loss: {total_loss/report_freq:.6f}')\n",
    "            total_loss = 0"
   ]
  },
  {
   "cell_type": "code",
   "execution_count": 66,
   "id": "4da90ad2",
   "metadata": {},
   "outputs": [],
   "source": [
    "def test(model, test_loader, loss_fn, logging=True):\n",
    "    model.eval()\n",
    "    with torch.no_grad():\n",
    "        test_loss = 0\n",
    "        for batch, (X, y) in enumerate(test_loader):\n",
    "            X, y = X.to(device).type(torch.float32), y.to(device).type(torch.float32)\n",
    "            pred = model(X)\n",
    "            test_loss += loss_fn(pred, y).item()\n",
    "            if logging and batch % 100 == 0:\n",
    "                print(f\"Batch {batch}\")\n",
    "        test_loss /= len(test_loader)\n",
    "        if logging:\n",
    "            print(f\"Avg loss per batch: {test_loss:>8f} \\n\")\n",
    "    return test_loss"
   ]
  },
  {
   "cell_type": "code",
   "execution_count": 67,
   "id": "af419c5e",
   "metadata": {
    "scrolled": true
   },
   "outputs": [
    {
     "data": {
      "text/plain": [
       "['training.zip',\n",
       " '.git',\n",
       " '.ipynb_checkpoints',\n",
       " 'test.csv',\n",
       " 'Facial point detection.ipynb',\n",
       " 'test.zip',\n",
       " 'facial-keypoints-detection.zip',\n",
       " 'SampleSubmission.csv',\n",
       " 'training.csv',\n",
       " 'checkpoints',\n",
       " 'IdLookupTable.csv']"
      ]
     },
     "execution_count": 67,
     "metadata": {},
     "output_type": "execute_result"
    }
   ],
   "source": [
    "os.listdir('.')"
   ]
  },
  {
   "cell_type": "code",
   "execution_count": 68,
   "id": "2aa4e97f",
   "metadata": {},
   "outputs": [],
   "source": [
    "checkpoints_folder = './checkpoints'\n",
    "os.makedirs(checkpoints_folder, exist_ok=True)"
   ]
  },
  {
   "cell_type": "code",
   "execution_count": 69,
   "id": "f1ea95e1",
   "metadata": {
    "scrolled": true
   },
   "outputs": [
    {
     "name": "stdout",
     "output_type": "stream",
     "text": [
      "Epoch 0: 3168/6335 Loss: 0.018958\n",
      "Epoch 1: 3168/6335 Loss: 0.006265\n",
      "Epoch 2: 3168/6335 Loss: 0.004923\n",
      "Epoch 3: 3168/6335 Loss: 0.004670\n",
      "Epoch 4: 3168/6335 Loss: 0.004787\n",
      "Epoch 5: 3168/6335 Loss: 0.004640\n",
      "Epoch 6: 3168/6335 Loss: 0.004075\n",
      "Epoch 7: 3168/6335 Loss: 0.003994\n",
      "Epoch 8: 3168/6335 Loss: 0.003438\n",
      "Epoch 9: 3168/6335 Loss: 0.003002\n",
      "Epoch 10: 3168/6335 Loss: 0.002552\n",
      "Epoch 11: 3168/6335 Loss: 0.002868\n",
      "Epoch 12: 3168/6335 Loss: 0.002553\n",
      "Epoch 13: 3168/6335 Loss: 0.002161\n",
      "Epoch 14: 3168/6335 Loss: 0.002476\n"
     ]
    }
   ],
   "source": [
    "# initial checkpoint\n",
    "location = os.path.join(checkpoints_folder, f'checkpoint_epoch_0.pth')\n",
    "torch.save({\n",
    "    'epoch': 0,\n",
    "    'model': model.state_dict(),\n",
    "    'optimizer': optimizer.state_dict(),\n",
    "    'train_loss': test(model, train_dataloader, loss_fn, logging=False),\n",
    "    'test_loss': test(model, test_dataloader, loss_fn, logging=False)\n",
    "},\n",
    "location)\n",
    "for epoch in range(15):\n",
    "    train(epoch)\n",
    "    \n",
    "    # save a checkpoint\n",
    "    location = os.path.join(checkpoints_folder, f'checkpoint_epoch_{epoch+1}.pth')\n",
    "    torch.save({\n",
    "        'epoch': epoch+1,\n",
    "        'model': model.state_dict(),\n",
    "        'optimizer': optimizer.state_dict(),\n",
    "        'train_loss': test(model, train_dataloader, loss_fn, logging=False),\n",
    "        'test_loss': test(model, test_dataloader, loss_fn, logging=False)\n",
    "    },\n",
    "    location)"
   ]
  },
  {
   "cell_type": "markdown",
   "id": "dcf60bc1",
   "metadata": {},
   "source": [
    "Lets look at the loss"
   ]
  },
  {
   "cell_type": "code",
   "execution_count": 70,
   "id": "5b4f0079",
   "metadata": {
    "scrolled": false
   },
   "outputs": [
    {
     "data": {
      "text/plain": [
       "<matplotlib.legend.Legend at 0x736a400d8bf0>"
      ]
     },
     "execution_count": 70,
     "metadata": {},
     "output_type": "execute_result"
    },
    {
     "data": {
      "image/png": "[encoded data removed]",
      "text/plain": [
       "<Figure size 640x480 with 1 Axes>"
      ]
     },
     "metadata": {},
     "output_type": "display_data"
    }
   ],
   "source": [
    "points = []\n",
    "for checkpoint_fp_head in os.listdir(checkpoints_folder):\n",
    "    checkpoint_fp = os.path.join(checkpoints_folder, checkpoint_fp_head)\n",
    "    checkpoint = torch.load(checkpoint_fp, map_location=device)\n",
    "    points.append((checkpoint['epoch'], checkpoint['train_loss'], checkpoint['test_loss']))\n",
    "points.sort()\n",
    "points = np.array(points)\n",
    "plt.plot(points[:, 0], points[:, 1], label='train loss')\n",
    "plt.plot(points[:, 0], points[:, 2], label='test loss')\n",
    "plt.yscale('log')\n",
    "plt.legend()"
   ]
  },
  {
   "cell_type": "code",
   "execution_count": 71,
   "id": "b61e196f",
   "metadata": {
    "scrolled": false
   },
   "outputs": [
    {
     "data": {
      "text/plain": [
       "tensor([[[ 1.0231,  0.2424,  0.1870],\n",
       "         [-0.1698,  0.7169, -0.3001]]], device='cuda:0')"
      ]
     },
     "execution_count": 71,
     "metadata": {},
     "output_type": "execute_result"
    },
    {
     "data": {
      "image/png": "[encoded data removed]",
      "text/plain": [
       "<Figure size 640x480 with 2 Axes>"
      ]
     },
     "metadata": {},
     "output_type": "display_data"
    }
   ],
   "source": [
    "fig, axs = plt.subplots(1, 2)\n",
    "with torch.no_grad():\n",
    "    model.eval()\n",
    "    test_idx = 7\n",
    "    test_val = train_dataset[test_idx][0].unsqueeze(0).to('cuda')\n",
    "    sample = model.stn(test_val)[0].cpu()\n",
    "    theta = model.theta(test_val)\n",
    "    theta = theta.view(-1, 2, 3)\n",
    "    grid = torch.nn.functional.affine_grid(theta, (theta.size(0), 1) + (24, 24))\n",
    "    coords = model(test_val)\n",
    "\n",
    "axs[0].imshow(sample.squeeze(), cmap='gray')\n",
    "axs[1].imshow(test_val.cpu().squeeze(), cmap='gray')\n",
    "axs[1].scatter(*coord_fix(coords).unsqueeze(-1).cpu(), marker='.')\n",
    "axs[1].scatter(*coord_fix(train_dataset[test_idx][1]).unsqueeze(-1).cpu(), marker='.', color='orange')\n",
    "theta"
   ]
  },
  {
   "cell_type": "code",
   "execution_count": 72,
   "id": "f0daf06b",
   "metadata": {},
   "outputs": [
    {
     "data": {
      "text/plain": [
       "torch.Size([1, 1, 96, 96])"
      ]
     },
     "execution_count": 72,
     "metadata": {},
     "output_type": "execute_result"
    }
   ],
   "source": [
    "train_dataset[0][0].unsqueeze(0).shape"
   ]
  },
  {
   "cell_type": "code",
   "execution_count": 73,
   "id": "02cef5cb",
   "metadata": {
    "scrolled": true
   },
   "outputs": [],
   "source": [
    "t1 = model.theta(train_dataset[0][0].unsqueeze(0).to('cuda'))#.view(-1, 2, 3)"
   ]
  },
  {
   "cell_type": "code",
   "execution_count": 74,
   "id": "43585e3f",
   "metadata": {
    "scrolled": true
   },
   "outputs": [
    {
     "data": {
      "text/plain": [
       "torch.float32"
      ]
     },
     "execution_count": 74,
     "metadata": {},
     "output_type": "execute_result"
    }
   ],
   "source": [
    "model.theta[0].bias.data.dtype"
   ]
  },
  {
   "cell_type": "code",
   "execution_count": 75,
   "id": "0d351423",
   "metadata": {},
   "outputs": [],
   "source": [
    "t2 = torch.cat([t1, t1], dim=0)"
   ]
  },
  {
   "cell_type": "code",
   "execution_count": 76,
   "id": "df66d63a",
   "metadata": {},
   "outputs": [
    {
     "data": {
      "text/plain": [
       "tensor([[ 1.0213,  0.2297,  0.1778, -0.1690,  0.7269, -0.2907]],\n",
       "       device='cuda:0', grad_fn=<AddmmBackward0>)"
      ]
     },
     "execution_count": 76,
     "metadata": {},
     "output_type": "execute_result"
    }
   ],
   "source": [
    "t1"
   ]
  },
  {
   "cell_type": "code",
   "execution_count": 77,
   "id": "4cfc6199",
   "metadata": {
    "scrolled": true
   },
   "outputs": [
    {
     "name": "stdout",
     "output_type": "stream",
     "text": [
      "Batch 0\n",
      "Avg loss per batch: 0.114374 \n",
      "\n"
     ]
    },
    {
     "data": {
      "text/plain": [
       "0.11437359249049966"
      ]
     },
     "execution_count": 77,
     "metadata": {},
     "output_type": "execute_result"
    }
   ],
   "source": [
    "test(Net().to(device), test_dataloader, torch.nn.functional.mse_loss)"
   ]
  },
  {
   "cell_type": "code",
   "execution_count": 78,
   "id": "f531d6a9",
   "metadata": {
    "scrolled": true
   },
   "outputs": [
    {
     "name": "stdout",
     "output_type": "stream",
     "text": [
      "Batch 0\n",
      "Batch 100\n",
      "Avg loss per batch: 0.002086 \n",
      "\n"
     ]
    },
    {
     "data": {
      "text/plain": [
       "0.002085656996856378"
      ]
     },
     "execution_count": 78,
     "metadata": {},
     "output_type": "execute_result"
    }
   ],
   "source": [
    "test(model, train_dataloader, torch.nn.functional.mse_loss)"
   ]
  },
  {
   "cell_type": "code",
   "execution_count": 79,
   "id": "5dbdcdbe",
   "metadata": {},
   "outputs": [
    {
     "name": "stdout",
     "output_type": "stream",
     "text": [
      "Batch 0\n",
      "Avg loss per batch: 0.002466 \n",
      "\n"
     ]
    },
    {
     "data": {
      "text/plain": [
       "0.002466038903962313"
      ]
     },
     "execution_count": 79,
     "metadata": {},
     "output_type": "execute_result"
    }
   ],
   "source": [
    "test(model, test_dataloader, torch.nn.functional.mse_loss)"
   ]
  },
  {
   "cell_type": "code",
   "execution_count": 80,
   "id": "491fa2a2",
   "metadata": {
    "scrolled": true
   },
   "outputs": [
    {
     "data": {
      "text/plain": [
       "tensor([[[ 1.0391,  0.2140,  0.1690],\n",
       "         [-0.1478,  0.7671, -0.2486]]], device='cuda:0')"
      ]
     },
     "execution_count": 80,
     "metadata": {},
     "output_type": "execute_result"
    },
    {
     "data": {
      "image/png": "[encoded data removed]",
      "text/plain": [
       "<Figure size 640x480 with 2 Axes>"
      ]
     },
     "metadata": {},
     "output_type": "display_data"
    }
   ],
   "source": [
    "fig, axs = plt.subplots(1, 2)\n",
    "with torch.no_grad():\n",
    "    model.eval()\n",
    "    test_idx = 0\n",
    "    test_val = test_dataset[test_idx][0].unsqueeze(0).to('cuda')\n",
    "    sample = model.stn(test_val)[0].cpu()\n",
    "    theta = model.theta(test_val)\n",
    "    theta = theta.view(-1, 2, 3)\n",
    "    grid = torch.nn.functional.affine_grid(theta, (theta.size(0), 1, 24, 24))\n",
    "    coords = model(test_val)\n",
    "\n",
    "axs[0].imshow(sample.squeeze(), cmap='gray')\n",
    "axs[1].imshow(test_val.cpu().squeeze(), cmap='gray')\n",
    "axs[1].scatter(*coord_fix(coords).unsqueeze(-1).cpu(), marker='.')\n",
    "axs[1].scatter(*coord_fix(train_dataset[test_idx][1]).unsqueeze(-1).cpu(), marker='.', color='orange')\n",
    "theta"
   ]
  },
  {
   "cell_type": "markdown",
   "id": "f45b8f30",
   "metadata": {},
   "source": [
    "Next step is to see how this performs if we drop faces in various positions against a background."
   ]
  },
  {
   "cell_type": "code",
   "execution_count": 81,
   "id": "03621e77",
   "metadata": {},
   "outputs": [
    {
     "data": {
      "text/plain": [
       "(1, 1, 24, 24)"
      ]
     },
     "execution_count": 81,
     "metadata": {},
     "output_type": "execute_result"
    }
   ],
   "source": [
    "(theta.size(0), 1) + (24, 24)\n"
   ]
  },
  {
   "cell_type": "code",
   "execution_count": null,
   "id": "0b8bd100",
   "metadata": {},
   "outputs": [],
   "source": []
  }
 ],
 "metadata": {
  "kernelspec": {
   "display_name": "Python 3 (ipykernel)",
   "language": "python",
   "name": "python3"
  },
  "language_info": {
   "codemirror_mode": {
    "name": "ipython",
    "version": 3
   },
   "file_extension": ".py",
   "mimetype": "text/x-python",
   "name": "python",
   "nbconvert_exporter": "python",
   "pygments_lexer": "ipython3",
   "version": "3.12.3"
  }
 },
 "nbformat": 4,
 "nbformat_minor": 5
}
